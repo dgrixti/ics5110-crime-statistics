{
 "cells": [
  {
   "cell_type": "code",
   "source": [
    "import pandas as pd\n",
    "df = pd.read_csv('US_Crime_DataSet_Original.csv')"
   ],
   "metadata": {
    "collapsed": true,
    "ExecuteTime": {
     "end_time": "2025-01-20T17:00:54.993479200Z",
     "start_time": "2025-01-20T17:00:53.985321Z"
    }
   },
   "id": "initial_id",
   "outputs": [
    {
     "name": "stderr",
     "output_type": "stream",
     "text": [
      "C:\\Users\\patbr\\AppData\\Local\\Temp\\ipykernel_18684\\2784183536.py:2: DtypeWarning: Columns (16) have mixed types. Specify dtype option on import or set low_memory=False.\n",
      "  df = pd.read_csv('US_Crime_DataSet_Original.csv')\n"
     ]
    }
   ],
   "execution_count": 2
  },
  {
   "cell_type": "code",
   "source": [
    "df.head()"
   ],
   "metadata": {
    "collapsed": false,
    "ExecuteTime": {
     "end_time": "2025-01-20T17:00:58.345134100Z",
     "start_time": "2025-01-20T17:00:58.331381100Z"
    }
   },
   "id": "60a0fe2c635ec056",
   "outputs": [
    {
     "data": {
      "text/plain": "   Record ID Agency Code Agency Name       Agency Type       City   State  \\\n0          1     AK00101   Anchorage  Municipal Police  Anchorage  Alaska   \n1          2     AK00101   Anchorage  Municipal Police  Anchorage  Alaska   \n2          3     AK00101   Anchorage  Municipal Police  Anchorage  Alaska   \n3          4     AK00101   Anchorage  Municipal Police  Anchorage  Alaska   \n4          5     AK00101   Anchorage  Municipal Police  Anchorage  Alaska   \n\n   Year    Month  Incident              Crime Type  ... Victim Ethnicity  \\\n0  1980  January         1  Murder or Manslaughter  ...          Unknown   \n1  1980    March         1  Murder or Manslaughter  ...          Unknown   \n2  1980    March         2  Murder or Manslaughter  ...          Unknown   \n3  1980    April         1  Murder or Manslaughter  ...          Unknown   \n4  1980    April         2  Murder or Manslaughter  ...          Unknown   \n\n  Perpetrator Sex  Perpetrator Age               Perpetrator Race  \\\n0            Male               15  Native American/Alaska Native   \n1            Male               42                          White   \n2         Unknown                0                        Unknown   \n3            Male               42                          White   \n4         Unknown                0                        Unknown   \n\n  Perpetrator Ethnicity  Relationship         Weapon Victim Count  \\\n0               Unknown  Acquaintance   Blunt Object            0   \n1               Unknown  Acquaintance  Strangulation            0   \n2               Unknown       Unknown        Unknown            0   \n3               Unknown  Acquaintance  Strangulation            0   \n4               Unknown       Unknown        Unknown            0   \n\n  Perpetrator Count Record Source  \n0                 0           FBI  \n1                 0           FBI  \n2                 0           FBI  \n3                 0           FBI  \n4                 1           FBI  \n\n[5 rows x 24 columns]",
      "text/html": "<div>\n<style scoped>\n    .dataframe tbody tr th:only-of-type {\n        vertical-align: middle;\n    }\n\n    .dataframe tbody tr th {\n        vertical-align: top;\n    }\n\n    .dataframe thead th {\n        text-align: right;\n    }\n</style>\n<table border=\"1\" class=\"dataframe\">\n  <thead>\n    <tr style=\"text-align: right;\">\n      <th></th>\n      <th>Record ID</th>\n      <th>Agency Code</th>\n      <th>Agency Name</th>\n      <th>Agency Type</th>\n      <th>City</th>\n      <th>State</th>\n      <th>Year</th>\n      <th>Month</th>\n      <th>Incident</th>\n      <th>Crime Type</th>\n      <th>...</th>\n      <th>Victim Ethnicity</th>\n      <th>Perpetrator Sex</th>\n      <th>Perpetrator Age</th>\n      <th>Perpetrator Race</th>\n      <th>Perpetrator Ethnicity</th>\n      <th>Relationship</th>\n      <th>Weapon</th>\n      <th>Victim Count</th>\n      <th>Perpetrator Count</th>\n      <th>Record Source</th>\n    </tr>\n  </thead>\n  <tbody>\n    <tr>\n      <th>0</th>\n      <td>1</td>\n      <td>AK00101</td>\n      <td>Anchorage</td>\n      <td>Municipal Police</td>\n      <td>Anchorage</td>\n      <td>Alaska</td>\n      <td>1980</td>\n      <td>January</td>\n      <td>1</td>\n      <td>Murder or Manslaughter</td>\n      <td>...</td>\n      <td>Unknown</td>\n      <td>Male</td>\n      <td>15</td>\n      <td>Native American/Alaska Native</td>\n      <td>Unknown</td>\n      <td>Acquaintance</td>\n      <td>Blunt Object</td>\n      <td>0</td>\n      <td>0</td>\n      <td>FBI</td>\n    </tr>\n    <tr>\n      <th>1</th>\n      <td>2</td>\n      <td>AK00101</td>\n      <td>Anchorage</td>\n      <td>Municipal Police</td>\n      <td>Anchorage</td>\n      <td>Alaska</td>\n      <td>1980</td>\n      <td>March</td>\n      <td>1</td>\n      <td>Murder or Manslaughter</td>\n      <td>...</td>\n      <td>Unknown</td>\n      <td>Male</td>\n      <td>42</td>\n      <td>White</td>\n      <td>Unknown</td>\n      <td>Acquaintance</td>\n      <td>Strangulation</td>\n      <td>0</td>\n      <td>0</td>\n      <td>FBI</td>\n    </tr>\n    <tr>\n      <th>2</th>\n      <td>3</td>\n      <td>AK00101</td>\n      <td>Anchorage</td>\n      <td>Municipal Police</td>\n      <td>Anchorage</td>\n      <td>Alaska</td>\n      <td>1980</td>\n      <td>March</td>\n      <td>2</td>\n      <td>Murder or Manslaughter</td>\n      <td>...</td>\n      <td>Unknown</td>\n      <td>Unknown</td>\n      <td>0</td>\n      <td>Unknown</td>\n      <td>Unknown</td>\n      <td>Unknown</td>\n      <td>Unknown</td>\n      <td>0</td>\n      <td>0</td>\n      <td>FBI</td>\n    </tr>\n    <tr>\n      <th>3</th>\n      <td>4</td>\n      <td>AK00101</td>\n      <td>Anchorage</td>\n      <td>Municipal Police</td>\n      <td>Anchorage</td>\n      <td>Alaska</td>\n      <td>1980</td>\n      <td>April</td>\n      <td>1</td>\n      <td>Murder or Manslaughter</td>\n      <td>...</td>\n      <td>Unknown</td>\n      <td>Male</td>\n      <td>42</td>\n      <td>White</td>\n      <td>Unknown</td>\n      <td>Acquaintance</td>\n      <td>Strangulation</td>\n      <td>0</td>\n      <td>0</td>\n      <td>FBI</td>\n    </tr>\n    <tr>\n      <th>4</th>\n      <td>5</td>\n      <td>AK00101</td>\n      <td>Anchorage</td>\n      <td>Municipal Police</td>\n      <td>Anchorage</td>\n      <td>Alaska</td>\n      <td>1980</td>\n      <td>April</td>\n      <td>2</td>\n      <td>Murder or Manslaughter</td>\n      <td>...</td>\n      <td>Unknown</td>\n      <td>Unknown</td>\n      <td>0</td>\n      <td>Unknown</td>\n      <td>Unknown</td>\n      <td>Unknown</td>\n      <td>Unknown</td>\n      <td>0</td>\n      <td>1</td>\n      <td>FBI</td>\n    </tr>\n  </tbody>\n</table>\n<p>5 rows × 24 columns</p>\n</div>"
     },
     "execution_count": 3,
     "metadata": {},
     "output_type": "execute_result"
    }
   ],
   "execution_count": 3
  },
  {
   "cell_type": "code",
   "outputs": [
    {
     "data": {
      "text/plain": "Index(['Record ID', 'Agency Code', 'Agency Name', 'Agency Type', 'City',\n       'State', 'Year', 'Month', 'Incident', 'Crime Type', 'Crime Solved',\n       'Victim Sex', 'Victim Age', 'Victim Race', 'Victim Ethnicity',\n       'Perpetrator Sex', 'Perpetrator Age', 'Perpetrator Race',\n       'Perpetrator Ethnicity', 'Relationship', 'Weapon', 'Victim Count',\n       'Perpetrator Count', 'Record Source'],\n      dtype='object')"
     },
     "execution_count": 4,
     "metadata": {},
     "output_type": "execute_result"
    }
   ],
   "source": [
    "df.columns"
   ],
   "metadata": {
    "collapsed": false,
    "ExecuteTime": {
     "end_time": "2025-01-20T17:01:04.304080200Z",
     "start_time": "2025-01-20T17:01:04.297674800Z"
    }
   },
   "id": "27e6fed2fc9a080",
   "execution_count": 4
  },
  {
   "metadata": {
    "ExecuteTime": {
     "end_time": "2025-01-20T17:01:49.281342100Z",
     "start_time": "2025-01-20T17:01:49.274935400Z"
    }
   },
   "cell_type": "code",
   "source": [
    "len(df)"
   ],
   "id": "a17b8c692d152c80",
   "outputs": [
    {
     "data": {
      "text/plain": "638454"
     },
     "execution_count": 5,
     "metadata": {},
     "output_type": "execute_result"
    }
   ],
   "execution_count": 5
  },
  {
   "cell_type": "code",
   "outputs": [],
   "source": [
    "df = df[df['Crime Solved'] == 'Yes']\n",
    "df = df[(df['Victim Age'] != 0) & (df['Victim Age'] <= 100)]\n",
    "df = df[df['Victim Sex'] != 'Unknown']\n",
    "\n",
    "df = df[(df['Victim Race'] != 'Unknown') & (df['Victim Ethnicity'] != 'Unknown')]\n",
    "df = df[(df['Perpetrator Race'] != 'Unknown') & (df['Perpetrator Ethnicity'] != 'Unknown')]"
   ],
   "metadata": {
    "collapsed": false,
    "ExecuteTime": {
     "end_time": "2025-01-11T18:24:48.321724400Z",
     "start_time": "2025-01-11T18:24:47.916364800Z"
    }
   },
   "id": "3230d482dc9313b6",
   "execution_count": 150
  },
  {
   "cell_type": "code",
   "outputs": [
    {
     "data": {
      "text/plain": "186364"
     },
     "execution_count": 151,
     "metadata": {},
     "output_type": "execute_result"
    }
   ],
   "source": [
    "len(df)"
   ],
   "metadata": {
    "collapsed": false,
    "ExecuteTime": {
     "end_time": "2025-01-11T18:24:49.787057900Z",
     "start_time": "2025-01-11T18:24:49.784698600Z"
    }
   },
   "id": "2ef4e6c5646a7874",
   "execution_count": 151
  },
  {
   "cell_type": "code",
   "outputs": [],
   "source": [
    "# Relationship Mappings\n",
    "relationship_mapping = {\n",
    "    'Family': ['Mother', 'Father', 'Stepdaughter', 'Stepfather',\n",
    "               'Stepson', 'Stepmother', 'Daughter', 'Son', 'Brother', 'Sister', \n",
    "               'In-Law', 'Family'],\n",
    "    'Lover': ['Wife', 'Husband', 'Girlfriend', 'Boyfriend', 'Boyfriend/Girlfriend', 'Ex-Husband', 'Ex-Wife', 'Common-Law Husband', 'Common-Law Wife'],\n",
    "    'Acquaintance': ['Acquaintance', 'Neighbor', 'Friend', 'Employer', 'Employee'],\n",
    "    'Stranger': ['Stranger']\n",
    "}\n",
    "\n",
    "# Create a reverse mapping dictionary\n",
    "reverse_mapping = {relation: category for category, relations in relationship_mapping.items() for relation in relations}\n",
    "\n",
    "# Map the categories to a new column\n",
    "df['Relationship Category'] = df['Relationship'].map(reverse_mapping)\n",
    "df = df.dropna(subset=['Relationship Category'])"
   ],
   "metadata": {
    "collapsed": false,
    "ExecuteTime": {
     "end_time": "2025-01-11T18:25:05.036998800Z",
     "start_time": "2025-01-11T18:25:04.991224800Z"
    }
   },
   "id": "ddf6b9838972ef62",
   "execution_count": 154
  },
  {
   "cell_type": "code",
   "outputs": [
    {
     "data": {
      "text/plain": "array(['Lover', 'Acquaintance', 'Family', 'Stranger', nan], dtype=object)"
     },
     "execution_count": 153,
     "metadata": {},
     "output_type": "execute_result"
    }
   ],
   "source": [
    "df['Relationship Category'].unique()"
   ],
   "metadata": {
    "ExecuteTime": {
     "end_time": "2025-01-11T18:25:01.742211200Z",
     "start_time": "2025-01-11T18:25:01.735778100Z"
    }
   },
   "id": "cdcdc888dac6006f",
   "execution_count": 153
  },
  {
   "cell_type": "code",
   "outputs": [],
   "source": [
    "# Weapon Mapping\n",
    "weapon_mapping = {\n",
    "    'Blunt Object': 'Non-Firearm',\n",
    "    'Strangulation': 'Non-Firearm',\n",
    "    'Rifle': 'Firearm',\n",
    "    'Knife': 'Non-Firearm',\n",
    "    'Firearm': 'Firearm',\n",
    "    'Shotgun': 'Firearm',\n",
    "    'Fall': 'Non-Firearm',\n",
    "    'Handgun': 'Firearm',\n",
    "    'Drowning': 'Non-Firearm',\n",
    "    'Suffocation': 'Non-Firearm',\n",
    "    'Explosives': 'Non-Firearm',\n",
    "    'Fire': 'Non-Firearm',\n",
    "    'Drugs': 'Non-Firearm',\n",
    "    'Gun': 'Firearm',\n",
    "    'Poison': 'Non-Firearm'\n",
    "}\n",
    "#df['Weapon Category'] = df['Weapon'].replace(weapon_mapping)\n",
    "# Create a reverse mapping dictionary\n",
    "reverse_mapping = {weapon: category for category, weapons in weapon_mapping.items() for weapon in weapons}\n",
    "\n",
    "# Map the categories to a new column\n",
    "df['Weapon Category'] = df['Weapon'].map(reverse_mapping)"
   ],
   "metadata": {
    "ExecuteTime": {
     "end_time": "2025-01-11T18:25:11.961183800Z",
     "start_time": "2025-01-11T18:25:11.947531100Z"
    }
   },
   "id": "13328f4b499d1f5d",
   "execution_count": 155
  },
  {
   "cell_type": "code",
   "outputs": [
    {
     "data": {
      "text/plain": "157232"
     },
     "execution_count": 156,
     "metadata": {},
     "output_type": "execute_result"
    }
   ],
   "source": [
    "len(df)"
   ],
   "metadata": {
    "ExecuteTime": {
     "end_time": "2025-01-11T18:25:14.376054600Z",
     "start_time": "2025-01-11T18:25:14.345486Z"
    }
   },
   "id": "d328e9c3c7b3008",
   "execution_count": 156
  },
  {
   "cell_type": "code",
   "outputs": [
    {
     "data": {
      "text/plain": "Agency Type\nMunicipal Police    118091\nSheriff              32527\nState Police          3158\nCounty Police         2970\nSpecial Police         389\nRegional Police         89\nTribal Police            8\nName: count, dtype: int64"
     },
     "execution_count": 157,
     "metadata": {},
     "output_type": "execute_result"
    }
   ],
   "source": [
    "df['Agency Type'].value_counts()"
   ],
   "metadata": {
    "ExecuteTime": {
     "end_time": "2025-01-11T18:25:22.449701100Z",
     "start_time": "2025-01-11T18:25:22.438129800Z"
    }
   },
   "id": "67cd9f45a7c50e16",
   "execution_count": 157
  },
  {
   "cell_type": "code",
   "outputs": [],
   "source": [
    "# less then 6000 rename to Other Police\n",
    "df['Agency Type'] = df['Agency Type'].astype(str)\n",
    "df['Agency Type'] = df['Agency Type'].replace('County Police', 'Other Police')\n",
    "df['Agency Type'] = df['Agency Type'].replace('State Police', 'Other Police')\n",
    "df['Agency Type'] = df['Agency Type'].replace('Special Police', 'Other Police')\n",
    "df['Agency Type'] = df['Agency Type'].replace('Regional Police', 'Other Police')\n",
    "df['Agency Type'] = df['Agency Type'].replace('Tribal Police', 'Other Police')"
   ],
   "metadata": {
    "ExecuteTime": {
     "end_time": "2025-01-11T18:25:24.302137700Z",
     "start_time": "2025-01-11T18:25:24.268710900Z"
    }
   },
   "id": "8838a1a54f0d1e52",
   "execution_count": 158
  },
  {
   "cell_type": "code",
   "outputs": [
    {
     "data": {
      "text/plain": "Agency Type\nMunicipal Police    118091\nSheriff              32527\nOther Police          6614\nName: count, dtype: int64"
     },
     "execution_count": 159,
     "metadata": {},
     "output_type": "execute_result"
    }
   ],
   "source": [
    "df['Agency Type'].value_counts()"
   ],
   "metadata": {
    "ExecuteTime": {
     "end_time": "2025-01-11T18:25:26.787136100Z",
     "start_time": "2025-01-11T18:25:26.757100400Z"
    }
   },
   "id": "78fafd65dda85624",
   "execution_count": 159
  },
  {
   "cell_type": "code",
   "outputs": [],
   "source": [
    "# Clean whitespaces\n",
    "df = df.apply(lambda col: col.str.strip() if col.dtypes == 'object' else col)"
   ],
   "metadata": {
    "ExecuteTime": {
     "end_time": "2025-01-11T18:24:11.076508400Z",
     "start_time": "2025-01-11T18:24:10.340691400Z"
    }
   },
   "id": "94fbb0067b5bfc3a",
   "execution_count": 147
  },
  {
   "cell_type": "code",
   "outputs": [],
   "source": [
    "from scipy.stats import chi2_contingency"
   ],
   "metadata": {
    "ExecuteTime": {
     "end_time": "2025-01-11T18:25:48.822498200Z",
     "start_time": "2025-01-11T18:25:48.401397100Z"
    }
   },
   "id": "a0e1d76113e69bcb",
   "execution_count": 160
  },
  {
   "cell_type": "code",
   "outputs": [
    {
     "name": "stdout",
     "output_type": "stream",
     "text": [
      "\n",
      "Contingency Table:\n",
      " Victim Ethnicity               Hispanic  Not Hispanic\n",
      "Victim Race                                          \n",
      "Asian/Pacific Islander               37          3127\n",
      "Black                               614         56510\n",
      "Native American/Alaska Native         7          1434\n",
      "White                             34753         60750\n",
      "\n",
      "Chi-square statistic: 26811.35402861161\n",
      "P-value 0.0\n",
      "Degrees of freedom: 3\n",
      "Expected frequencies:\n",
      " [[  712.5801618   2451.4198382 ]\n",
      " [12865.17988705 44258.82011295]\n",
      " [  324.53477028  1116.46522972]\n",
      " [21508.70518088 73994.29481912]]\n"
     ]
    }
   ],
   "source": [
    "contingency_table = pd.crosstab(df['Victim Race'], df['Victim Ethnicity'])\n",
    "chi2, p, dof, expected = chi2_contingency(contingency_table)\n",
    "# Display results\n",
    "print(\"\\nContingency Table:\\n\", contingency_table)\n",
    "print(\"\\nChi-square statistic:\", chi2)\n",
    "print(\"P-value\", p)\n",
    "print(\"Degrees of freedom:\", dof)\n",
    "print(\"Expected frequencies:\\n\", expected)"
   ],
   "metadata": {
    "ExecuteTime": {
     "end_time": "2025-01-11T18:25:50.552379200Z",
     "start_time": "2025-01-11T18:25:50.520038500Z"
    }
   },
   "id": "5f5aad24fc7c60bd",
   "execution_count": 161
  },
  {
   "cell_type": "code",
   "outputs": [
    {
     "name": "stdout",
     "output_type": "stream",
     "text": [
      "There is a significant association between the variables.\n"
     ]
    }
   ],
   "source": [
    "# Interpretation\n",
    "if p < 0.05:\n",
    "    print(\"There is a significant association between the variables.\")\n",
    "else:\n",
    "    print(\"There is no significant association between the variables.\")"
   ],
   "metadata": {
    "ExecuteTime": {
     "end_time": "2025-01-11T18:25:53.785569800Z",
     "start_time": "2025-01-11T18:25:53.780956800Z"
    }
   },
   "id": "483262a116e6b6eb",
   "execution_count": 162
  },
  {
   "cell_type": "code",
   "outputs": [],
   "source": [
    "import numpy as np"
   ],
   "metadata": {
    "ExecuteTime": {
     "end_time": "2025-01-11T18:25:55.953424Z",
     "start_time": "2025-01-11T18:25:55.947151200Z"
    }
   },
   "id": "f36bfc84a3d2f390",
   "execution_count": 163
  },
  {
   "cell_type": "code",
   "outputs": [
    {
     "name": "stdout",
     "output_type": "stream",
     "text": [
      "Chi-square statistic: 26811.35402861161\n",
      "Cramer's V: 0.4129418549335249\n"
     ]
    }
   ],
   "source": [
    "# Calculate Cramer's V\n",
    "n = contingency_table.to_numpy().sum() # total no. of observations\n",
    "k, r = contingency_table.shape # dimensions of the table\n",
    "cramers_v = np.sqrt(chi2 / (n * min(k - 1, r - 1)))\n",
    "\n",
    "# Display results\n",
    "print(\"Chi-square statistic:\", chi2)\n",
    "print(\"Cramer's V:\", cramers_v)\n",
    "\n",
    "# Interpretation of below:\n",
    "## V < 0.1: Weak\n",
    "## 0.1 ≤ V < 0.3: Moderate\n",
    "## V > 0.3: Strong\n",
    "\n",
    "# This sets the basis for imputing the missing values"
   ],
   "metadata": {
    "ExecuteTime": {
     "end_time": "2025-01-11T18:25:57.812639900Z",
     "start_time": "2025-01-11T18:25:57.808109200Z"
    }
   },
   "id": "b983ff84c944f28a",
   "execution_count": 164
  },
  {
   "cell_type": "code",
   "outputs": [],
   "source": [
    "cr_vict_subset = df[['Victim Race','Victim Ethnicity']].copy()\n",
    "cr_vict_subset.replace('Unknown', np.nan, inplace=True)"
   ],
   "metadata": {
    "ExecuteTime": {
     "end_time": "2025-01-11T18:26:02.787172400Z",
     "start_time": "2025-01-11T18:26:02.760635400Z"
    }
   },
   "id": "916f05c91c141b85",
   "execution_count": 165
  },
  {
   "cell_type": "code",
   "outputs": [],
   "source": [
    "cr_perp_subset = df[['Perpetrator Race','Perpetrator Ethnicity']].copy()\n",
    "cr_perp_subset.replace('Unknown', np.nan, inplace=True)"
   ],
   "metadata": {
    "ExecuteTime": {
     "end_time": "2025-01-11T18:26:05.356676100Z",
     "start_time": "2025-01-11T18:26:05.339524Z"
    }
   },
   "id": "d779eab0246979ff",
   "execution_count": 166
  },
  {
   "cell_type": "code",
   "outputs": [],
   "source": [
    "prob_vict_ethn_given_race = pd.crosstab(cr_vict_subset['Victim Race'], cr_vict_subset['Victim Ethnicity'], normalize='index')\n",
    "prob_vict_race_given_ethnicity = pd.crosstab(cr_vict_subset['Victim Ethnicity'], cr_vict_subset['Victim Race'], normalize='columns')"
   ],
   "metadata": {
    "ExecuteTime": {
     "end_time": "2025-01-11T18:26:07.481797200Z",
     "start_time": "2025-01-11T18:26:07.441381900Z"
    }
   },
   "id": "c79e958a103149ca",
   "execution_count": 167
  },
  {
   "cell_type": "code",
   "outputs": [],
   "source": [
    "prob_perp_ethn_given_race = pd.crosstab(cr_perp_subset['Perpetrator Race'], cr_perp_subset['Perpetrator Ethnicity'], normalize='index')\n",
    "prob_perp_race_given_ethnicity = pd.crosstab(cr_perp_subset['Perpetrator Ethnicity'], cr_perp_subset['Perpetrator Race'], normalize='columns')"
   ],
   "metadata": {
    "ExecuteTime": {
     "end_time": "2025-01-11T18:26:09.474819900Z",
     "start_time": "2025-01-11T18:26:09.432321Z"
    }
   },
   "id": "a6a37bc7871d7258",
   "execution_count": 168
  },
  {
   "cell_type": "code",
   "outputs": [],
   "source": [
    "# Step 5: Impute missing values\n",
    "## Function to impute Victim Ethnicity based on Victim Race\n",
    "def impute_vict_ethnicity(row, prob_table):\n",
    "    if pd.isnull(row['Victim Ethnicity']) and row ['Victim Race'] in prob_table.index:\n",
    "        return np.random.choice(prob_table.columns, p=prob_table.loc[row['Victim Race']].values)\n",
    "    return row['Victim Ethnicity']\n",
    "\n",
    "## Function to impute Victim Race based on Victim Ethnicity\n",
    "def impute_vict_race(row, prob_table):\n",
    "    if pd.isnull(row['Victim Race']) and row ['Victim Ethnicity'] in prob_table.columns:\n",
    "        return np.random.choice(prob_table.index, p=prob_table[row['Victim Ethnicity']].values)\n",
    "    return row['Victim Race']\n",
    "\n",
    "## Apply imputations\n",
    "df['Victim Ethnicity'] = cr_vict_subset.apply(impute_vict_ethnicity, axis=1, prob_table=prob_vict_ethn_given_race)\n",
    "df['Victim Race'] = cr_vict_subset.apply(impute_vict_race, axis=1, prob_table=prob_vict_race_given_ethnicity)"
   ],
   "metadata": {
    "ExecuteTime": {
     "end_time": "2025-01-11T18:26:28.605078800Z",
     "start_time": "2025-01-11T18:26:27.571318200Z"
    }
   },
   "id": "8218f9ad2fc49a71",
   "execution_count": 169
  },
  {
   "cell_type": "code",
   "outputs": [
    {
     "data": {
      "text/plain": [
       "array(['Not Hispanic', 'Hispanic'], dtype=object)"
      ]
     },
     "execution_count": 105,
     "metadata": {},
     "output_type": "execute_result"
    }
   ],
   "source": [
    "df['Victim Ethnicity'].unique()"
   ],
   "metadata": {
    "ExecuteTime": {
     "end_time": "2025-01-11T10:04:51.862652Z",
     "start_time": "2025-01-11T10:04:51.830635Z"
    }
   },
   "id": "57f0e5ef033cb5fe",
   "execution_count": 105
  },
  {
   "cell_type": "code",
   "outputs": [
    {
     "data": {
      "text/plain": [
       "array(['Native American/Alaska Native', 'Black', 'White',\n",
       "       'Asian/Pacific Islander'], dtype=object)"
      ]
     },
     "execution_count": 106,
     "metadata": {},
     "output_type": "execute_result"
    }
   ],
   "source": [
    "df['Victim Race'].unique()"
   ],
   "metadata": {
    "ExecuteTime": {
     "end_time": "2025-01-11T10:05:03.513755Z",
     "start_time": "2025-01-11T10:05:03.492174Z"
    }
   },
   "id": "76c2a366e9ee70dc",
   "execution_count": 106
  },
  {
   "cell_type": "code",
   "outputs": [],
   "source": [
    "# Step 5: Impute missing values\n",
    "## Function to impute Victim Ethnicity based on Victim Race\n",
    "def impute_perp_ethnicity(row, prob_table):\n",
    "    if pd.isnull(row['Perpetrator Ethnicity']) and row ['Perpetrator Race'] in prob_table.index:\n",
    "        return np.random.choice(prob_table.columns, p=prob_table.loc[row['Perpetrator Race']].values)\n",
    "    return row['Perpetrator Ethnicity']\n",
    "\n",
    "## Function to impute Victim Race based on Victim Ethnicity\n",
    "def impute_perp_race(row, prob_table):\n",
    "    if pd.isnull(row['Perpetrator Race']) and row ['Perpetrator Ethnicity'] in prob_table.columns:\n",
    "        return np.random.choice(prob_table.index, p=prob_table[row['Perpetrator Ethnicity']].values)\n",
    "    return row['Perpetrator Race']\n",
    "\n",
    "## Apply imputations\n",
    "df['Perpetrator Ethnicity'] = cr_perp_subset.apply(impute_perp_ethnicity, axis=1, prob_table=prob_perp_ethn_given_race)\n",
    "df['Perpetrator Race'] = cr_perp_subset.apply(impute_perp_race, axis=1, prob_table=prob_perp_race_given_ethnicity)"
   ],
   "metadata": {
    "ExecuteTime": {
     "end_time": "2025-01-11T18:26:37.556387500Z",
     "start_time": "2025-01-11T18:26:36.577131Z"
    }
   },
   "id": "87b34f0bc915ce67",
   "execution_count": 170
  },
  {
   "cell_type": "code",
   "outputs": [
    {
     "data": {
      "text/plain": [
       "array(['Not Hispanic', 'Hispanic'], dtype=object)"
      ]
     },
     "execution_count": 132,
     "metadata": {},
     "output_type": "execute_result"
    }
   ],
   "source": [
    "df['Perpetrator Ethnicity'].unique()"
   ],
   "metadata": {
    "ExecuteTime": {
     "end_time": "2025-01-11T10:11:06.522551Z",
     "start_time": "2025-01-11T10:11:06.506829Z"
    }
   },
   "id": "600071f2d06c1689",
   "execution_count": 132
  },
  {
   "cell_type": "code",
   "outputs": [
    {
     "data": {
      "text/plain": [
       "array(['Native American/Alaska Native', 'Black', 'White',\n",
       "       'Asian/Pacific Islander'], dtype=object)"
      ]
     },
     "execution_count": 133,
     "metadata": {},
     "output_type": "execute_result"
    }
   ],
   "source": [
    "df['Perpetrator Race'].unique()"
   ],
   "metadata": {
    "ExecuteTime": {
     "end_time": "2025-01-11T10:11:08.249885Z",
     "start_time": "2025-01-11T10:11:08.218148Z"
    }
   },
   "id": "fa8e093822c426d8",
   "execution_count": 133
  },
  {
   "cell_type": "code",
   "outputs": [
    {
     "data": {
      "text/plain": [
       "    Record ID Agency Code          Agency Name   Agency Type       City  \\\n",
       "44         45     AKASP00  Alaska State Police  Other Police     Juneau   \n",
       "52         53     AL00100            Jefferson       Sheriff  Jefferson   \n",
       "53         54     AL00100            Jefferson       Sheriff  Jefferson   \n",
       "54         55     AL00100            Jefferson       Sheriff  Jefferson   \n",
       "58         59     AL00100            Jefferson       Sheriff  Jefferson   \n",
       "\n",
       "      State  Year      Month  Incident                  Crime Type  ...  \\\n",
       "44   Alaska  1980   November         4  Manslaughter by Negligence  ...   \n",
       "52  Alabama  1980       July         1      Murder or Manslaughter  ...   \n",
       "53  Alabama  1980       July         2      Murder or Manslaughter  ...   \n",
       "54  Alabama  1980       July         3      Murder or Manslaughter  ...   \n",
       "58  Alabama  1980  September        41      Murder or Manslaughter  ...   \n",
       "\n",
       "   Perpetrator Age               Perpetrator Race  Perpetrator Ethnicity  \\\n",
       "44             NaN  Native American/Alaska Native           Not Hispanic   \n",
       "52             NaN                          Black           Not Hispanic   \n",
       "53             NaN                          White           Not Hispanic   \n",
       "54             NaN                          Black           Not Hispanic   \n",
       "58             NaN                          White           Not Hispanic   \n",
       "\n",
       "    Relationship    Weapon Victim Count Perpetrator Count Record Source  \\\n",
       "44          Wife  Drowning            0                 0           FBI   \n",
       "52  Acquaintance   Handgun            0                 0           FBI   \n",
       "53       Husband   Handgun            0                 0           FBI   \n",
       "54  Acquaintance   Handgun            0                 1           FBI   \n",
       "58        Father     Rifle            0                 0           FBI   \n",
       "\n",
       "   Weapon Category Relationship Category  \n",
       "44     Non-Firearm                 Lover  \n",
       "52         Firearm          Acquaintance  \n",
       "53         Firearm                 Lover  \n",
       "54         Firearm          Acquaintance  \n",
       "58         Firearm                Family  \n",
       "\n",
       "[5 rows x 26 columns]"
      ],
      "text/html": [
       "<div>\n",
       "<style scoped>\n",
       "    .dataframe tbody tr th:only-of-type {\n",
       "        vertical-align: middle;\n",
       "    }\n",
       "\n",
       "    .dataframe tbody tr th {\n",
       "        vertical-align: top;\n",
       "    }\n",
       "\n",
       "    .dataframe thead th {\n",
       "        text-align: right;\n",
       "    }\n",
       "</style>\n",
       "<table border=\"1\" class=\"dataframe\">\n",
       "  <thead>\n",
       "    <tr style=\"text-align: right;\">\n",
       "      <th></th>\n",
       "      <th>Record ID</th>\n",
       "      <th>Agency Code</th>\n",
       "      <th>Agency Name</th>\n",
       "      <th>Agency Type</th>\n",
       "      <th>City</th>\n",
       "      <th>State</th>\n",
       "      <th>Year</th>\n",
       "      <th>Month</th>\n",
       "      <th>Incident</th>\n",
       "      <th>Crime Type</th>\n",
       "      <th>...</th>\n",
       "      <th>Perpetrator Age</th>\n",
       "      <th>Perpetrator Race</th>\n",
       "      <th>Perpetrator Ethnicity</th>\n",
       "      <th>Relationship</th>\n",
       "      <th>Weapon</th>\n",
       "      <th>Victim Count</th>\n",
       "      <th>Perpetrator Count</th>\n",
       "      <th>Record Source</th>\n",
       "      <th>Weapon Category</th>\n",
       "      <th>Relationship Category</th>\n",
       "    </tr>\n",
       "  </thead>\n",
       "  <tbody>\n",
       "    <tr>\n",
       "      <th>44</th>\n",
       "      <td>45</td>\n",
       "      <td>AKASP00</td>\n",
       "      <td>Alaska State Police</td>\n",
       "      <td>Other Police</td>\n",
       "      <td>Juneau</td>\n",
       "      <td>Alaska</td>\n",
       "      <td>1980</td>\n",
       "      <td>November</td>\n",
       "      <td>4</td>\n",
       "      <td>Manslaughter by Negligence</td>\n",
       "      <td>...</td>\n",
       "      <td>NaN</td>\n",
       "      <td>Native American/Alaska Native</td>\n",
       "      <td>Not Hispanic</td>\n",
       "      <td>Wife</td>\n",
       "      <td>Drowning</td>\n",
       "      <td>0</td>\n",
       "      <td>0</td>\n",
       "      <td>FBI</td>\n",
       "      <td>Non-Firearm</td>\n",
       "      <td>Lover</td>\n",
       "    </tr>\n",
       "    <tr>\n",
       "      <th>52</th>\n",
       "      <td>53</td>\n",
       "      <td>AL00100</td>\n",
       "      <td>Jefferson</td>\n",
       "      <td>Sheriff</td>\n",
       "      <td>Jefferson</td>\n",
       "      <td>Alabama</td>\n",
       "      <td>1980</td>\n",
       "      <td>July</td>\n",
       "      <td>1</td>\n",
       "      <td>Murder or Manslaughter</td>\n",
       "      <td>...</td>\n",
       "      <td>NaN</td>\n",
       "      <td>Black</td>\n",
       "      <td>Not Hispanic</td>\n",
       "      <td>Acquaintance</td>\n",
       "      <td>Handgun</td>\n",
       "      <td>0</td>\n",
       "      <td>0</td>\n",
       "      <td>FBI</td>\n",
       "      <td>Firearm</td>\n",
       "      <td>Acquaintance</td>\n",
       "    </tr>\n",
       "    <tr>\n",
       "      <th>53</th>\n",
       "      <td>54</td>\n",
       "      <td>AL00100</td>\n",
       "      <td>Jefferson</td>\n",
       "      <td>Sheriff</td>\n",
       "      <td>Jefferson</td>\n",
       "      <td>Alabama</td>\n",
       "      <td>1980</td>\n",
       "      <td>July</td>\n",
       "      <td>2</td>\n",
       "      <td>Murder or Manslaughter</td>\n",
       "      <td>...</td>\n",
       "      <td>NaN</td>\n",
       "      <td>White</td>\n",
       "      <td>Not Hispanic</td>\n",
       "      <td>Husband</td>\n",
       "      <td>Handgun</td>\n",
       "      <td>0</td>\n",
       "      <td>0</td>\n",
       "      <td>FBI</td>\n",
       "      <td>Firearm</td>\n",
       "      <td>Lover</td>\n",
       "    </tr>\n",
       "    <tr>\n",
       "      <th>54</th>\n",
       "      <td>55</td>\n",
       "      <td>AL00100</td>\n",
       "      <td>Jefferson</td>\n",
       "      <td>Sheriff</td>\n",
       "      <td>Jefferson</td>\n",
       "      <td>Alabama</td>\n",
       "      <td>1980</td>\n",
       "      <td>July</td>\n",
       "      <td>3</td>\n",
       "      <td>Murder or Manslaughter</td>\n",
       "      <td>...</td>\n",
       "      <td>NaN</td>\n",
       "      <td>Black</td>\n",
       "      <td>Not Hispanic</td>\n",
       "      <td>Acquaintance</td>\n",
       "      <td>Handgun</td>\n",
       "      <td>0</td>\n",
       "      <td>1</td>\n",
       "      <td>FBI</td>\n",
       "      <td>Firearm</td>\n",
       "      <td>Acquaintance</td>\n",
       "    </tr>\n",
       "    <tr>\n",
       "      <th>58</th>\n",
       "      <td>59</td>\n",
       "      <td>AL00100</td>\n",
       "      <td>Jefferson</td>\n",
       "      <td>Sheriff</td>\n",
       "      <td>Jefferson</td>\n",
       "      <td>Alabama</td>\n",
       "      <td>1980</td>\n",
       "      <td>September</td>\n",
       "      <td>41</td>\n",
       "      <td>Murder or Manslaughter</td>\n",
       "      <td>...</td>\n",
       "      <td>NaN</td>\n",
       "      <td>White</td>\n",
       "      <td>Not Hispanic</td>\n",
       "      <td>Father</td>\n",
       "      <td>Rifle</td>\n",
       "      <td>0</td>\n",
       "      <td>0</td>\n",
       "      <td>FBI</td>\n",
       "      <td>Firearm</td>\n",
       "      <td>Family</td>\n",
       "    </tr>\n",
       "  </tbody>\n",
       "</table>\n",
       "<p>5 rows × 26 columns</p>\n",
       "</div>"
      ]
     },
     "execution_count": 135,
     "metadata": {},
     "output_type": "execute_result"
    }
   ],
   "source": [
    "df.head()"
   ],
   "metadata": {
    "ExecuteTime": {
     "end_time": "2025-01-11T10:12:55.593108Z",
     "start_time": "2025-01-11T10:12:55.561661Z"
    }
   },
   "id": "c577dbfe29e940f9",
   "execution_count": 135
  },
  {
   "cell_type": "code",
   "outputs": [
    {
     "data": {
      "text/plain": "157232"
     },
     "execution_count": 171,
     "metadata": {},
     "output_type": "execute_result"
    }
   ],
   "source": [
    "len(df)"
   ],
   "metadata": {
    "ExecuteTime": {
     "end_time": "2025-01-11T18:26:47.234648200Z",
     "start_time": "2025-01-11T18:26:47.228903100Z"
    }
   },
   "id": "e538015e32254f5",
   "execution_count": 171
  },
  {
   "cell_type": "code",
   "outputs": [],
   "source": [
    "# State to Region\n",
    "state_to_region = {\n",
    "    # East Coast\n",
    "    'Rhodes Island': 'Northeast',\n",
    "    'District of Columbia': 'Northeast',\n",
    "    'Maine': 'Northeast', \n",
    "    'New Hampshire': 'Northeast', \n",
    "    'Vermont': 'Northeast', \n",
    "    'Massachusetts': 'Northeast', \n",
    "    'Rhode Island': 'Northeast', \n",
    "    'Connecticut': 'Northeast',\n",
    "    'New York': 'Northeast', \n",
    "    'New Jersey': 'Northeast', \n",
    "    'Pennsylvania': 'Northeast',\n",
    "    'Delaware': 'South', \n",
    "    'Maryland': 'South', \n",
    "    'Virginia': 'South', \n",
    "    'North Carolina': 'South',\n",
    "    'South Carolina': 'South', \n",
    "    'Georgia': 'South', \n",
    "    'Florida': 'South', \n",
    "    'Alabama': 'South',\n",
    "    'Mississippi': 'South', \n",
    "    'Louisiana': 'South', \n",
    "    'Arkansas': 'South', \n",
    "    'Tennessee': 'South',\n",
    "    'Kentucky': 'South', \n",
    "    'West Virginia': 'South', \n",
    "    'Oklahoma': 'South', \n",
    "    'Texas': 'South',\n",
    "    'Ohio': 'Midwest', \n",
    "    'Indiana': 'Midwest', \n",
    "    'Illinois': 'Midwest', \n",
    "    'Iowa': 'Midwest', \n",
    "    'Missouri': 'Midwest', \n",
    "    'Michigan': 'Midwest', \n",
    "    'Wisconsin': 'Midwest', \n",
    "    'Minnesota': 'Midwest',\n",
    "    'North Dakota': 'Midwest', \n",
    "    'South Dakota': 'Midwest', \n",
    "    'Nebraska': 'Midwest', \n",
    "    'Kansas': 'Midwest',\n",
    "    'Montana': 'West', \n",
    "    'Wyoming': 'West', \n",
    "    'Idaho': 'West', \n",
    "    'Washington': 'West', \n",
    "    'Oregon': 'West',\n",
    "    'California': 'West', \n",
    "    'Nevada': 'West', \n",
    "    'Utah': 'West', \n",
    "    'Colorado': 'West', \n",
    "    'Arizona': 'West',\n",
    "    'New Mexico': 'West', \n",
    "    'Alaska': 'West', \n",
    "    'Hawaii': 'West'\n",
    "}\n",
    "\n",
    "# Apply state_to_region to the 'State' column (replace 'State' with your column name)\n",
    "df['Region'] = df['State'].map(state_to_region)"
   ],
   "metadata": {
    "ExecuteTime": {
     "end_time": "2025-01-11T18:26:50.699872700Z",
     "start_time": "2025-01-11T18:26:50.686368400Z"
    }
   },
   "id": "12177641b228e354",
   "execution_count": 172
  },
  {
   "cell_type": "code",
   "outputs": [],
   "source": [
    "# Season\n",
    "def month_to_season(month):\n",
    "    if month in ['December', 'January', 'February']:\n",
    "        return 'Winter'\n",
    "    elif month in ['March', 'April', 'May']:\n",
    "        return 'Spring'\n",
    "    elif month in ['June', 'July', 'August']:\n",
    "        return 'Summer'\n",
    "    elif month in ['September', 'October', 'November']:\n",
    "        return 'Autumn'\n",
    "\n",
    "df['Season'] = df['Month'].apply(month_to_season)"
   ],
   "metadata": {
    "ExecuteTime": {
     "end_time": "2025-01-11T18:26:56.201821200Z",
     "start_time": "2025-01-11T18:26:56.178734800Z"
    }
   },
   "id": "46187a717ec4f228",
   "execution_count": 173
  },
  {
   "metadata": {
    "ExecuteTime": {
     "end_time": "2025-01-11T18:29:35.450043600Z",
     "start_time": "2025-01-11T18:29:34.768437300Z"
    }
   },
   "cell_type": "code",
   "source": [
    "df.to_csv('FULL_df_3_single_weapon.csv', index=False)"
   ],
   "id": "b15f75bbe8afd3f3",
   "outputs": [],
   "execution_count": 174
  },
  {
   "metadata": {
    "ExecuteTime": {
     "end_time": "2025-01-11T18:29:37.000346Z",
     "start_time": "2025-01-11T18:29:36.989694800Z"
    }
   },
   "cell_type": "code",
   "source": [
    "df.columns"
   ],
   "id": "b8aa260990a16051",
   "outputs": [
    {
     "data": {
      "text/plain": "Index(['Record ID', 'Agency Code', 'Agency Name', 'Agency Type', 'City',\n       'State', 'Year', 'Month', 'Incident', 'Crime Type', 'Crime Solved',\n       'Victim Sex', 'Victim Age', 'Victim Race', 'Victim Ethnicity',\n       'Perpetrator Sex', 'Perpetrator Age', 'Perpetrator Race',\n       'Perpetrator Ethnicity', 'Relationship', 'Weapon', 'Victim Count',\n       'Perpetrator Count', 'Record Source', 'Relationship Category',\n       'Weapon Category', 'Region', 'Season'],\n      dtype='object')"
     },
     "execution_count": 175,
     "metadata": {},
     "output_type": "execute_result"
    }
   ],
   "execution_count": 175
  },
  {
   "metadata": {
    "ExecuteTime": {
     "end_time": "2025-01-11T11:18:34.680485Z",
     "start_time": "2025-01-11T11:18:34.657045Z"
    }
   },
   "cell_type": "code",
   "source": [
    "df.head()"
   ],
   "id": "ea1d42ba67bbb7c9",
   "outputs": [
    {
     "data": {
      "text/plain": [
       "    Record ID Agency Code          Agency Name   Agency Type       City  \\\n",
       "44         45     AKASP00  Alaska State Police  Other Police     Juneau   \n",
       "52         53     AL00100            Jefferson       Sheriff  Jefferson   \n",
       "53         54     AL00100            Jefferson       Sheriff  Jefferson   \n",
       "54         55     AL00100            Jefferson       Sheriff  Jefferson   \n",
       "58         59     AL00100            Jefferson       Sheriff  Jefferson   \n",
       "\n",
       "      State  Year      Month  Incident                  Crime Type  ...  \\\n",
       "44   Alaska  1980   November         4  Manslaughter by Negligence  ...   \n",
       "52  Alabama  1980       July         1      Murder or Manslaughter  ...   \n",
       "53  Alabama  1980       July         2      Murder or Manslaughter  ...   \n",
       "54  Alabama  1980       July         3      Murder or Manslaughter  ...   \n",
       "58  Alabama  1980  September        41      Murder or Manslaughter  ...   \n",
       "\n",
       "   Perpetrator Ethnicity  Relationship    Weapon Victim Count  \\\n",
       "44          Not Hispanic          Wife  Drowning            0   \n",
       "52          Not Hispanic  Acquaintance   Handgun            0   \n",
       "53          Not Hispanic       Husband   Handgun            0   \n",
       "54          Not Hispanic  Acquaintance   Handgun            0   \n",
       "58          Not Hispanic        Father     Rifle            0   \n",
       "\n",
       "   Perpetrator Count Record Source Weapon Category Relationship Category  \\\n",
       "44                 0           FBI     Non-Firearm                 Lover   \n",
       "52                 0           FBI         Firearm          Acquaintance   \n",
       "53                 0           FBI         Firearm                 Lover   \n",
       "54                 1           FBI         Firearm          Acquaintance   \n",
       "58                 0           FBI         Firearm                Family   \n",
       "\n",
       "   Region  Season  \n",
       "44   West  Autumn  \n",
       "52  South  Summer  \n",
       "53  South  Summer  \n",
       "54  South  Summer  \n",
       "58  South  Autumn  \n",
       "\n",
       "[5 rows x 28 columns]"
      ],
      "text/html": [
       "<div>\n",
       "<style scoped>\n",
       "    .dataframe tbody tr th:only-of-type {\n",
       "        vertical-align: middle;\n",
       "    }\n",
       "\n",
       "    .dataframe tbody tr th {\n",
       "        vertical-align: top;\n",
       "    }\n",
       "\n",
       "    .dataframe thead th {\n",
       "        text-align: right;\n",
       "    }\n",
       "</style>\n",
       "<table border=\"1\" class=\"dataframe\">\n",
       "  <thead>\n",
       "    <tr style=\"text-align: right;\">\n",
       "      <th></th>\n",
       "      <th>Record ID</th>\n",
       "      <th>Agency Code</th>\n",
       "      <th>Agency Name</th>\n",
       "      <th>Agency Type</th>\n",
       "      <th>City</th>\n",
       "      <th>State</th>\n",
       "      <th>Year</th>\n",
       "      <th>Month</th>\n",
       "      <th>Incident</th>\n",
       "      <th>Crime Type</th>\n",
       "      <th>...</th>\n",
       "      <th>Perpetrator Ethnicity</th>\n",
       "      <th>Relationship</th>\n",
       "      <th>Weapon</th>\n",
       "      <th>Victim Count</th>\n",
       "      <th>Perpetrator Count</th>\n",
       "      <th>Record Source</th>\n",
       "      <th>Weapon Category</th>\n",
       "      <th>Relationship Category</th>\n",
       "      <th>Region</th>\n",
       "      <th>Season</th>\n",
       "    </tr>\n",
       "  </thead>\n",
       "  <tbody>\n",
       "    <tr>\n",
       "      <th>44</th>\n",
       "      <td>45</td>\n",
       "      <td>AKASP00</td>\n",
       "      <td>Alaska State Police</td>\n",
       "      <td>Other Police</td>\n",
       "      <td>Juneau</td>\n",
       "      <td>Alaska</td>\n",
       "      <td>1980</td>\n",
       "      <td>November</td>\n",
       "      <td>4</td>\n",
       "      <td>Manslaughter by Negligence</td>\n",
       "      <td>...</td>\n",
       "      <td>Not Hispanic</td>\n",
       "      <td>Wife</td>\n",
       "      <td>Drowning</td>\n",
       "      <td>0</td>\n",
       "      <td>0</td>\n",
       "      <td>FBI</td>\n",
       "      <td>Non-Firearm</td>\n",
       "      <td>Lover</td>\n",
       "      <td>West</td>\n",
       "      <td>Autumn</td>\n",
       "    </tr>\n",
       "    <tr>\n",
       "      <th>52</th>\n",
       "      <td>53</td>\n",
       "      <td>AL00100</td>\n",
       "      <td>Jefferson</td>\n",
       "      <td>Sheriff</td>\n",
       "      <td>Jefferson</td>\n",
       "      <td>Alabama</td>\n",
       "      <td>1980</td>\n",
       "      <td>July</td>\n",
       "      <td>1</td>\n",
       "      <td>Murder or Manslaughter</td>\n",
       "      <td>...</td>\n",
       "      <td>Not Hispanic</td>\n",
       "      <td>Acquaintance</td>\n",
       "      <td>Handgun</td>\n",
       "      <td>0</td>\n",
       "      <td>0</td>\n",
       "      <td>FBI</td>\n",
       "      <td>Firearm</td>\n",
       "      <td>Acquaintance</td>\n",
       "      <td>South</td>\n",
       "      <td>Summer</td>\n",
       "    </tr>\n",
       "    <tr>\n",
       "      <th>53</th>\n",
       "      <td>54</td>\n",
       "      <td>AL00100</td>\n",
       "      <td>Jefferson</td>\n",
       "      <td>Sheriff</td>\n",
       "      <td>Jefferson</td>\n",
       "      <td>Alabama</td>\n",
       "      <td>1980</td>\n",
       "      <td>July</td>\n",
       "      <td>2</td>\n",
       "      <td>Murder or Manslaughter</td>\n",
       "      <td>...</td>\n",
       "      <td>Not Hispanic</td>\n",
       "      <td>Husband</td>\n",
       "      <td>Handgun</td>\n",
       "      <td>0</td>\n",
       "      <td>0</td>\n",
       "      <td>FBI</td>\n",
       "      <td>Firearm</td>\n",
       "      <td>Lover</td>\n",
       "      <td>South</td>\n",
       "      <td>Summer</td>\n",
       "    </tr>\n",
       "    <tr>\n",
       "      <th>54</th>\n",
       "      <td>55</td>\n",
       "      <td>AL00100</td>\n",
       "      <td>Jefferson</td>\n",
       "      <td>Sheriff</td>\n",
       "      <td>Jefferson</td>\n",
       "      <td>Alabama</td>\n",
       "      <td>1980</td>\n",
       "      <td>July</td>\n",
       "      <td>3</td>\n",
       "      <td>Murder or Manslaughter</td>\n",
       "      <td>...</td>\n",
       "      <td>Not Hispanic</td>\n",
       "      <td>Acquaintance</td>\n",
       "      <td>Handgun</td>\n",
       "      <td>0</td>\n",
       "      <td>1</td>\n",
       "      <td>FBI</td>\n",
       "      <td>Firearm</td>\n",
       "      <td>Acquaintance</td>\n",
       "      <td>South</td>\n",
       "      <td>Summer</td>\n",
       "    </tr>\n",
       "    <tr>\n",
       "      <th>58</th>\n",
       "      <td>59</td>\n",
       "      <td>AL00100</td>\n",
       "      <td>Jefferson</td>\n",
       "      <td>Sheriff</td>\n",
       "      <td>Jefferson</td>\n",
       "      <td>Alabama</td>\n",
       "      <td>1980</td>\n",
       "      <td>September</td>\n",
       "      <td>41</td>\n",
       "      <td>Murder or Manslaughter</td>\n",
       "      <td>...</td>\n",
       "      <td>Not Hispanic</td>\n",
       "      <td>Father</td>\n",
       "      <td>Rifle</td>\n",
       "      <td>0</td>\n",
       "      <td>0</td>\n",
       "      <td>FBI</td>\n",
       "      <td>Firearm</td>\n",
       "      <td>Family</td>\n",
       "      <td>South</td>\n",
       "      <td>Autumn</td>\n",
       "    </tr>\n",
       "  </tbody>\n",
       "</table>\n",
       "<p>5 rows × 28 columns</p>\n",
       "</div>"
      ]
     },
     "execution_count": 207,
     "metadata": {},
     "output_type": "execute_result"
    }
   ],
   "execution_count": 207
  },
  {
   "metadata": {
    "ExecuteTime": {
     "end_time": "2025-01-11T11:18:38.252867Z",
     "start_time": "2025-01-11T11:18:38.207991Z"
    }
   },
   "cell_type": "code",
   "source": [
    "df = df.drop(columns=['Record ID', 'Agency Code', 'Agency Name', 'City', 'State', 'Year', 'Month', 'Incident','Crime Type'])"
   ],
   "id": "ca0c1547e80b262c",
   "outputs": [],
   "execution_count": 208
  },
  {
   "metadata": {
    "ExecuteTime": {
     "end_time": "2025-01-11T10:58:07.154531Z",
     "start_time": "2025-01-11T10:58:07.123607Z"
    }
   },
   "cell_type": "code",
   "source": [
    "df.head()"
   ],
   "id": "4802b025aca6c1cf",
   "outputs": [
    {
     "data": {
      "text/plain": [
       "     Agency Type Crime Solved Victim Sex  Victim Age  \\\n",
       "44  Other Police          Yes     Female          26   \n",
       "52       Sheriff          Yes       Male          23   \n",
       "53       Sheriff          Yes       Male          42   \n",
       "54       Sheriff          Yes       Male          33   \n",
       "58       Sheriff          Yes       Male          46   \n",
       "\n",
       "                      Victim Race Victim Ethnicity Perpetrator Sex  \\\n",
       "44  Native American/Alaska Native     Not Hispanic            Male   \n",
       "52                          Black     Not Hispanic            Male   \n",
       "53                          White     Not Hispanic          Female   \n",
       "54                          Black     Not Hispanic            Male   \n",
       "58                          White     Not Hispanic            Male   \n",
       "\n",
       "   Perpetrator Age               Perpetrator Race Perpetrator Ethnicity  \\\n",
       "44             NaN  Native American/Alaska Native          Not Hispanic   \n",
       "52             NaN                          Black          Not Hispanic   \n",
       "53             NaN                          White          Not Hispanic   \n",
       "54             NaN                          Black          Not Hispanic   \n",
       "58             NaN                          White          Not Hispanic   \n",
       "\n",
       "    Relationship    Weapon  Victim Count  Perpetrator Count Record Source  \\\n",
       "44          Wife  Drowning             0                  0           FBI   \n",
       "52  Acquaintance   Handgun             0                  0           FBI   \n",
       "53       Husband   Handgun             0                  0           FBI   \n",
       "54  Acquaintance   Handgun             0                  1           FBI   \n",
       "58        Father     Rifle             0                  0           FBI   \n",
       "\n",
       "   Weapon Category Relationship Category Region  Season  \n",
       "44     Non-Firearm                 Lover   West  Autumn  \n",
       "52         Firearm          Acquaintance  South  Summer  \n",
       "53         Firearm                 Lover  South  Summer  \n",
       "54         Firearm          Acquaintance  South  Summer  \n",
       "58         Firearm                Family  South  Autumn  "
      ],
      "text/html": [
       "<div>\n",
       "<style scoped>\n",
       "    .dataframe tbody tr th:only-of-type {\n",
       "        vertical-align: middle;\n",
       "    }\n",
       "\n",
       "    .dataframe tbody tr th {\n",
       "        vertical-align: top;\n",
       "    }\n",
       "\n",
       "    .dataframe thead th {\n",
       "        text-align: right;\n",
       "    }\n",
       "</style>\n",
       "<table border=\"1\" class=\"dataframe\">\n",
       "  <thead>\n",
       "    <tr style=\"text-align: right;\">\n",
       "      <th></th>\n",
       "      <th>Agency Type</th>\n",
       "      <th>Crime Solved</th>\n",
       "      <th>Victim Sex</th>\n",
       "      <th>Victim Age</th>\n",
       "      <th>Victim Race</th>\n",
       "      <th>Victim Ethnicity</th>\n",
       "      <th>Perpetrator Sex</th>\n",
       "      <th>Perpetrator Age</th>\n",
       "      <th>Perpetrator Race</th>\n",
       "      <th>Perpetrator Ethnicity</th>\n",
       "      <th>Relationship</th>\n",
       "      <th>Weapon</th>\n",
       "      <th>Victim Count</th>\n",
       "      <th>Perpetrator Count</th>\n",
       "      <th>Record Source</th>\n",
       "      <th>Weapon Category</th>\n",
       "      <th>Relationship Category</th>\n",
       "      <th>Region</th>\n",
       "      <th>Season</th>\n",
       "    </tr>\n",
       "  </thead>\n",
       "  <tbody>\n",
       "    <tr>\n",
       "      <th>44</th>\n",
       "      <td>Other Police</td>\n",
       "      <td>Yes</td>\n",
       "      <td>Female</td>\n",
       "      <td>26</td>\n",
       "      <td>Native American/Alaska Native</td>\n",
       "      <td>Not Hispanic</td>\n",
       "      <td>Male</td>\n",
       "      <td>NaN</td>\n",
       "      <td>Native American/Alaska Native</td>\n",
       "      <td>Not Hispanic</td>\n",
       "      <td>Wife</td>\n",
       "      <td>Drowning</td>\n",
       "      <td>0</td>\n",
       "      <td>0</td>\n",
       "      <td>FBI</td>\n",
       "      <td>Non-Firearm</td>\n",
       "      <td>Lover</td>\n",
       "      <td>West</td>\n",
       "      <td>Autumn</td>\n",
       "    </tr>\n",
       "    <tr>\n",
       "      <th>52</th>\n",
       "      <td>Sheriff</td>\n",
       "      <td>Yes</td>\n",
       "      <td>Male</td>\n",
       "      <td>23</td>\n",
       "      <td>Black</td>\n",
       "      <td>Not Hispanic</td>\n",
       "      <td>Male</td>\n",
       "      <td>NaN</td>\n",
       "      <td>Black</td>\n",
       "      <td>Not Hispanic</td>\n",
       "      <td>Acquaintance</td>\n",
       "      <td>Handgun</td>\n",
       "      <td>0</td>\n",
       "      <td>0</td>\n",
       "      <td>FBI</td>\n",
       "      <td>Firearm</td>\n",
       "      <td>Acquaintance</td>\n",
       "      <td>South</td>\n",
       "      <td>Summer</td>\n",
       "    </tr>\n",
       "    <tr>\n",
       "      <th>53</th>\n",
       "      <td>Sheriff</td>\n",
       "      <td>Yes</td>\n",
       "      <td>Male</td>\n",
       "      <td>42</td>\n",
       "      <td>White</td>\n",
       "      <td>Not Hispanic</td>\n",
       "      <td>Female</td>\n",
       "      <td>NaN</td>\n",
       "      <td>White</td>\n",
       "      <td>Not Hispanic</td>\n",
       "      <td>Husband</td>\n",
       "      <td>Handgun</td>\n",
       "      <td>0</td>\n",
       "      <td>0</td>\n",
       "      <td>FBI</td>\n",
       "      <td>Firearm</td>\n",
       "      <td>Lover</td>\n",
       "      <td>South</td>\n",
       "      <td>Summer</td>\n",
       "    </tr>\n",
       "    <tr>\n",
       "      <th>54</th>\n",
       "      <td>Sheriff</td>\n",
       "      <td>Yes</td>\n",
       "      <td>Male</td>\n",
       "      <td>33</td>\n",
       "      <td>Black</td>\n",
       "      <td>Not Hispanic</td>\n",
       "      <td>Male</td>\n",
       "      <td>NaN</td>\n",
       "      <td>Black</td>\n",
       "      <td>Not Hispanic</td>\n",
       "      <td>Acquaintance</td>\n",
       "      <td>Handgun</td>\n",
       "      <td>0</td>\n",
       "      <td>1</td>\n",
       "      <td>FBI</td>\n",
       "      <td>Firearm</td>\n",
       "      <td>Acquaintance</td>\n",
       "      <td>South</td>\n",
       "      <td>Summer</td>\n",
       "    </tr>\n",
       "    <tr>\n",
       "      <th>58</th>\n",
       "      <td>Sheriff</td>\n",
       "      <td>Yes</td>\n",
       "      <td>Male</td>\n",
       "      <td>46</td>\n",
       "      <td>White</td>\n",
       "      <td>Not Hispanic</td>\n",
       "      <td>Male</td>\n",
       "      <td>NaN</td>\n",
       "      <td>White</td>\n",
       "      <td>Not Hispanic</td>\n",
       "      <td>Father</td>\n",
       "      <td>Rifle</td>\n",
       "      <td>0</td>\n",
       "      <td>0</td>\n",
       "      <td>FBI</td>\n",
       "      <td>Firearm</td>\n",
       "      <td>Family</td>\n",
       "      <td>South</td>\n",
       "      <td>Autumn</td>\n",
       "    </tr>\n",
       "  </tbody>\n",
       "</table>\n",
       "</div>"
      ]
     },
     "execution_count": 168,
     "metadata": {},
     "output_type": "execute_result"
    }
   ],
   "execution_count": 168
  },
  {
   "metadata": {
    "ExecuteTime": {
     "end_time": "2025-01-11T11:18:40.797267Z",
     "start_time": "2025-01-11T11:18:40.749443Z"
    }
   },
   "cell_type": "code",
   "source": [
    "df = df.drop(columns=['Crime Solved','Perpetrator Age','Relationship', 'Weapon', 'Victim Count', 'Perpetrator Count', 'Record Source', 'Victim Race', 'Perpetrator Race'])"
   ],
   "id": "16925be71d8068f3",
   "outputs": [],
   "execution_count": 209
  },
  {
   "metadata": {
    "ExecuteTime": {
     "end_time": "2025-01-11T11:18:42.905537Z",
     "start_time": "2025-01-11T11:18:42.889551Z"
    }
   },
   "cell_type": "code",
   "source": [
    "df.head()"
   ],
   "id": "71c425864f3392a3",
   "outputs": [
    {
     "data": {
      "text/plain": [
       "     Agency Type Victim Sex  Victim Age Victim Ethnicity Perpetrator Sex  \\\n",
       "44  Other Police     Female          26     Not Hispanic            Male   \n",
       "52       Sheriff       Male          23     Not Hispanic            Male   \n",
       "53       Sheriff       Male          42     Not Hispanic          Female   \n",
       "54       Sheriff       Male          33     Not Hispanic            Male   \n",
       "58       Sheriff       Male          46     Not Hispanic            Male   \n",
       "\n",
       "   Perpetrator Ethnicity Weapon Category Relationship Category Region  Season  \n",
       "44          Not Hispanic     Non-Firearm                 Lover   West  Autumn  \n",
       "52          Not Hispanic         Firearm          Acquaintance  South  Summer  \n",
       "53          Not Hispanic         Firearm                 Lover  South  Summer  \n",
       "54          Not Hispanic         Firearm          Acquaintance  South  Summer  \n",
       "58          Not Hispanic         Firearm                Family  South  Autumn  "
      ],
      "text/html": [
       "<div>\n",
       "<style scoped>\n",
       "    .dataframe tbody tr th:only-of-type {\n",
       "        vertical-align: middle;\n",
       "    }\n",
       "\n",
       "    .dataframe tbody tr th {\n",
       "        vertical-align: top;\n",
       "    }\n",
       "\n",
       "    .dataframe thead th {\n",
       "        text-align: right;\n",
       "    }\n",
       "</style>\n",
       "<table border=\"1\" class=\"dataframe\">\n",
       "  <thead>\n",
       "    <tr style=\"text-align: right;\">\n",
       "      <th></th>\n",
       "      <th>Agency Type</th>\n",
       "      <th>Victim Sex</th>\n",
       "      <th>Victim Age</th>\n",
       "      <th>Victim Ethnicity</th>\n",
       "      <th>Perpetrator Sex</th>\n",
       "      <th>Perpetrator Ethnicity</th>\n",
       "      <th>Weapon Category</th>\n",
       "      <th>Relationship Category</th>\n",
       "      <th>Region</th>\n",
       "      <th>Season</th>\n",
       "    </tr>\n",
       "  </thead>\n",
       "  <tbody>\n",
       "    <tr>\n",
       "      <th>44</th>\n",
       "      <td>Other Police</td>\n",
       "      <td>Female</td>\n",
       "      <td>26</td>\n",
       "      <td>Not Hispanic</td>\n",
       "      <td>Male</td>\n",
       "      <td>Not Hispanic</td>\n",
       "      <td>Non-Firearm</td>\n",
       "      <td>Lover</td>\n",
       "      <td>West</td>\n",
       "      <td>Autumn</td>\n",
       "    </tr>\n",
       "    <tr>\n",
       "      <th>52</th>\n",
       "      <td>Sheriff</td>\n",
       "      <td>Male</td>\n",
       "      <td>23</td>\n",
       "      <td>Not Hispanic</td>\n",
       "      <td>Male</td>\n",
       "      <td>Not Hispanic</td>\n",
       "      <td>Firearm</td>\n",
       "      <td>Acquaintance</td>\n",
       "      <td>South</td>\n",
       "      <td>Summer</td>\n",
       "    </tr>\n",
       "    <tr>\n",
       "      <th>53</th>\n",
       "      <td>Sheriff</td>\n",
       "      <td>Male</td>\n",
       "      <td>42</td>\n",
       "      <td>Not Hispanic</td>\n",
       "      <td>Female</td>\n",
       "      <td>Not Hispanic</td>\n",
       "      <td>Firearm</td>\n",
       "      <td>Lover</td>\n",
       "      <td>South</td>\n",
       "      <td>Summer</td>\n",
       "    </tr>\n",
       "    <tr>\n",
       "      <th>54</th>\n",
       "      <td>Sheriff</td>\n",
       "      <td>Male</td>\n",
       "      <td>33</td>\n",
       "      <td>Not Hispanic</td>\n",
       "      <td>Male</td>\n",
       "      <td>Not Hispanic</td>\n",
       "      <td>Firearm</td>\n",
       "      <td>Acquaintance</td>\n",
       "      <td>South</td>\n",
       "      <td>Summer</td>\n",
       "    </tr>\n",
       "    <tr>\n",
       "      <th>58</th>\n",
       "      <td>Sheriff</td>\n",
       "      <td>Male</td>\n",
       "      <td>46</td>\n",
       "      <td>Not Hispanic</td>\n",
       "      <td>Male</td>\n",
       "      <td>Not Hispanic</td>\n",
       "      <td>Firearm</td>\n",
       "      <td>Family</td>\n",
       "      <td>South</td>\n",
       "      <td>Autumn</td>\n",
       "    </tr>\n",
       "  </tbody>\n",
       "</table>\n",
       "</div>"
      ]
     },
     "execution_count": 210,
     "metadata": {},
     "output_type": "execute_result"
    }
   ],
   "execution_count": 210
  },
  {
   "metadata": {
    "ExecuteTime": {
     "end_time": "2025-01-11T11:18:51.060355Z",
     "start_time": "2025-01-11T11:18:50.607968Z"
    }
   },
   "cell_type": "code",
   "source": [
    "df.to_csv('clean_df_3_single_weapon.csv', index=False)"
   ],
   "id": "7e10963aab1eb8ab",
   "outputs": [],
   "execution_count": 211
  },
  {
   "cell_type": "code",
   "outputs": [
    {
     "data": {
      "text/plain": "157232"
     },
     "execution_count": 176,
     "metadata": {},
     "output_type": "execute_result"
    }
   ],
   "source": [
    "len(df)"
   ],
   "metadata": {
    "collapsed": false,
    "ExecuteTime": {
     "end_time": "2025-01-11T18:29:44.805085800Z",
     "start_time": "2025-01-11T18:29:44.799458600Z"
    }
   },
   "id": "24808f76c8ac76c7",
   "execution_count": 176
  },
  {
   "metadata": {
    "ExecuteTime": {
     "end_time": "2025-01-11T11:34:46.702165Z",
     "start_time": "2025-01-11T11:34:46.560231Z"
    }
   },
   "cell_type": "code",
   "source": [
    "len(df)"
   ],
   "id": "d4bcbda134884e24",
   "outputs": [
    {
     "data": {
      "text/plain": [
       "153511"
      ]
     },
     "execution_count": 212,
     "metadata": {},
     "output_type": "execute_result"
    }
   ],
   "execution_count": 212
  }
 ],
 "metadata": {
  "kernelspec": {
   "display_name": "Python 3",
   "language": "python",
   "name": "python3"
  },
  "language_info": {
   "codemirror_mode": {
    "name": "ipython",
    "version": 2
   },
   "file_extension": ".py",
   "mimetype": "text/x-python",
   "name": "python",
   "nbconvert_exporter": "python",
   "pygments_lexer": "ipython2",
   "version": "2.7.6"
  }
 },
 "nbformat": 4,
 "nbformat_minor": 5
}
