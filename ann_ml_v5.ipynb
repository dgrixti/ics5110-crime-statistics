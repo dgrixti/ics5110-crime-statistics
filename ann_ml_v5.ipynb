{
 "cells": [
  {
   "cell_type": "code",
   "id": "793086e7",
   "metadata": {
    "ExecuteTime": {
     "end_time": "2025-01-23T17:06:34.317275Z",
     "start_time": "2025-01-23T17:06:34.269831Z"
    }
   },
   "source": [
    "import pandas as pd\n",
    "import numpy as np\n",
    "from sklearn.model_selection import train_test_split\n",
    "from sklearn.preprocessing import StandardScaler, LabelEncoder\n",
    "from tensorflow.keras.models import Sequential\n",
    "from tensorflow.keras.layers import Dense\n",
    "import matplotlib.pyplot as plt\n",
    "from sklearn.utils.class_weight import compute_class_weight\n",
    "from imblearn.over_sampling import SMOTE\n",
    "from keras.callbacks import EarlyStopping\n",
    "from keras.layers import Dropout\n",
    "from collections import Counter\n",
    "from tensorflow.keras.layers import BatchNormalization\n",
    "from sklearn.metrics import confusion_matrix, accuracy_score, recall_score, precision_score, f1_score, classification_report"
   ],
   "outputs": [],
   "execution_count": 5
  },
  {
   "cell_type": "code",
   "id": "7640754e",
   "metadata": {
    "ExecuteTime": {
     "end_time": "2025-01-23T17:06:39.941302Z",
     "start_time": "2025-01-23T17:06:39.081824Z"
    }
   },
   "source": [
    "# Load the Clean Dataset\n",
    "df = pd.read_csv('clean_df_3_single_weapon.csv')\n",
    "df.head()"
   ],
   "outputs": [
    {
     "data": {
      "text/plain": [
       "    Agency Type Victim Sex  Victim Age Victim Ethnicity Perpetrator Sex  \\\n",
       "0  Other Police     Female          26     Not Hispanic            Male   \n",
       "1       Sheriff       Male          23     Not Hispanic            Male   \n",
       "2       Sheriff       Male          42     Not Hispanic          Female   \n",
       "3       Sheriff       Male          33     Not Hispanic            Male   \n",
       "4       Sheriff       Male          46     Not Hispanic            Male   \n",
       "\n",
       "  Perpetrator Ethnicity Weapon Category Relationship Category Region  Season  \n",
       "0          Not Hispanic     Non-Firearm                 Lover   West  Autumn  \n",
       "1          Not Hispanic         Firearm          Acquaintance  South  Summer  \n",
       "2          Not Hispanic         Firearm                 Lover  South  Summer  \n",
       "3          Not Hispanic         Firearm          Acquaintance  South  Summer  \n",
       "4          Not Hispanic         Firearm                Family  South  Autumn  "
      ],
      "text/html": [
       "<div>\n",
       "<style scoped>\n",
       "    .dataframe tbody tr th:only-of-type {\n",
       "        vertical-align: middle;\n",
       "    }\n",
       "\n",
       "    .dataframe tbody tr th {\n",
       "        vertical-align: top;\n",
       "    }\n",
       "\n",
       "    .dataframe thead th {\n",
       "        text-align: right;\n",
       "    }\n",
       "</style>\n",
       "<table border=\"1\" class=\"dataframe\">\n",
       "  <thead>\n",
       "    <tr style=\"text-align: right;\">\n",
       "      <th></th>\n",
       "      <th>Agency Type</th>\n",
       "      <th>Victim Sex</th>\n",
       "      <th>Victim Age</th>\n",
       "      <th>Victim Ethnicity</th>\n",
       "      <th>Perpetrator Sex</th>\n",
       "      <th>Perpetrator Ethnicity</th>\n",
       "      <th>Weapon Category</th>\n",
       "      <th>Relationship Category</th>\n",
       "      <th>Region</th>\n",
       "      <th>Season</th>\n",
       "    </tr>\n",
       "  </thead>\n",
       "  <tbody>\n",
       "    <tr>\n",
       "      <th>0</th>\n",
       "      <td>Other Police</td>\n",
       "      <td>Female</td>\n",
       "      <td>26</td>\n",
       "      <td>Not Hispanic</td>\n",
       "      <td>Male</td>\n",
       "      <td>Not Hispanic</td>\n",
       "      <td>Non-Firearm</td>\n",
       "      <td>Lover</td>\n",
       "      <td>West</td>\n",
       "      <td>Autumn</td>\n",
       "    </tr>\n",
       "    <tr>\n",
       "      <th>1</th>\n",
       "      <td>Sheriff</td>\n",
       "      <td>Male</td>\n",
       "      <td>23</td>\n",
       "      <td>Not Hispanic</td>\n",
       "      <td>Male</td>\n",
       "      <td>Not Hispanic</td>\n",
       "      <td>Firearm</td>\n",
       "      <td>Acquaintance</td>\n",
       "      <td>South</td>\n",
       "      <td>Summer</td>\n",
       "    </tr>\n",
       "    <tr>\n",
       "      <th>2</th>\n",
       "      <td>Sheriff</td>\n",
       "      <td>Male</td>\n",
       "      <td>42</td>\n",
       "      <td>Not Hispanic</td>\n",
       "      <td>Female</td>\n",
       "      <td>Not Hispanic</td>\n",
       "      <td>Firearm</td>\n",
       "      <td>Lover</td>\n",
       "      <td>South</td>\n",
       "      <td>Summer</td>\n",
       "    </tr>\n",
       "    <tr>\n",
       "      <th>3</th>\n",
       "      <td>Sheriff</td>\n",
       "      <td>Male</td>\n",
       "      <td>33</td>\n",
       "      <td>Not Hispanic</td>\n",
       "      <td>Male</td>\n",
       "      <td>Not Hispanic</td>\n",
       "      <td>Firearm</td>\n",
       "      <td>Acquaintance</td>\n",
       "      <td>South</td>\n",
       "      <td>Summer</td>\n",
       "    </tr>\n",
       "    <tr>\n",
       "      <th>4</th>\n",
       "      <td>Sheriff</td>\n",
       "      <td>Male</td>\n",
       "      <td>46</td>\n",
       "      <td>Not Hispanic</td>\n",
       "      <td>Male</td>\n",
       "      <td>Not Hispanic</td>\n",
       "      <td>Firearm</td>\n",
       "      <td>Family</td>\n",
       "      <td>South</td>\n",
       "      <td>Autumn</td>\n",
       "    </tr>\n",
       "  </tbody>\n",
       "</table>\n",
       "</div>"
      ]
     },
     "execution_count": 6,
     "metadata": {},
     "output_type": "execute_result"
    }
   ],
   "execution_count": 6
  },
  {
   "cell_type": "code",
   "id": "5c728618",
   "metadata": {
    "ExecuteTime": {
     "end_time": "2025-01-23T17:15:47.919272Z",
     "start_time": "2025-01-23T17:15:47.457103Z"
    }
   },
   "source": [
    "# 1. Apply Label Encoding and Standard Scalarr\n",
    "\n",
    "categorical_columns = ['Agency Type', 'Victim Sex', 'Victim Age', 'Victim Ethnicity',\n",
    "       'Perpetrator Sex', 'Perpetrator Ethnicity',\n",
    "       'Relationship Category', 'Region', 'Season']\n",
    "label_encoders = {}\n",
    "\n",
    "for col in categorical_columns:\n",
    "    le = LabelEncoder()\n",
    "    df[col] = le.fit_transform(df[col])\n",
    "    label_encoders[col] = le\n",
    "\n",
    "target_encoder = LabelEncoder()\n",
    "df[\"Weapon Category\"] = target_encoder.fit_transform(df['Weapon Category']) \n",
    "\n",
    "X = df.drop(columns=[\"Weapon Category\"])\n",
    "y = df[\"Weapon Category\"]\n",
    "\n",
    "scaler = StandardScaler()\n",
    "X_scaled = scaler.fit_transform(X)"
   ],
   "outputs": [],
   "execution_count": 8
  },
  {
   "cell_type": "code",
   "id": "53a9d400",
   "metadata": {
    "ExecuteTime": {
     "end_time": "2025-01-23T17:15:52.686816Z",
     "start_time": "2025-01-23T17:15:52.572886Z"
    }
   },
   "source": [
    "# 3. Train-Test Split\n",
    "X_train, X_test, y_train, y_test = train_test_split(X_scaled, y, test_size=0.3, random_state=42, stratify=y)"
   ],
   "outputs": [],
   "execution_count": 9
  },
  {
   "cell_type": "code",
   "id": "74c96fdf",
   "metadata": {
    "ExecuteTime": {
     "end_time": "2025-01-23T17:15:57.450981Z",
     "start_time": "2025-01-23T17:15:57.403380Z"
    }
   },
   "source": [
    "# 4. Compute class weights to handle imbalance\n",
    "class_weights = compute_class_weight(class_weight='balanced', classes=np.unique(y_train), y=y_train)\n",
    "class_weights = dict(enumerate(class_weights))\n",
    "print(\"Class weights:\", class_weights)"
   ],
   "outputs": [
    {
     "name": "stdout",
     "output_type": "stream",
     "text": [
      "Class weights: {0: np.float64(0.7452872064474068), 1: np.float64(1.519213368772267)}\n"
     ]
    }
   ],
   "execution_count": 10
  },
  {
   "cell_type": "code",
   "id": "a40eabec",
   "metadata": {
    "ExecuteTime": {
     "end_time": "2025-01-23T17:16:06.933237Z",
     "start_time": "2025-01-23T17:16:04.537243Z"
    }
   },
   "source": [
    "# 5. SMOTE Implementation\n",
    "sm = SMOTE(random_state=42)\n",
    "X_train_resampled, y_train_resampled = sm.fit_resample(X_train, y_train)\n",
    "print(\"After SMOTE Resampling:\", Counter(y_train_resampled))\n"
   ],
   "outputs": [
    {
     "name": "stdout",
     "output_type": "stream",
     "text": [
      "After SMOTE Resampling: Counter({0: 72091, 1: 72091})\n"
     ]
    }
   ],
   "execution_count": 11
  },
  {
   "metadata": {
    "ExecuteTime": {
     "end_time": "2025-01-25T07:20:21.526892Z",
     "start_time": "2025-01-25T07:16:55.348032Z"
    }
   },
   "cell_type": "code",
   "source": [
    "# 6. Train ANN Model with SMOTE and Class weights \n",
    "\n",
    "# Encode y_train_resampled\n",
    "le = LabelEncoder()\n",
    "y_train_encoded = le.fit_transform(y_train_resampled) \n",
    "\n",
    "# Define the model\n",
    "model = Sequential([\n",
    "    Dense(16, input_dim=X_train_resampled.shape[1], activation='relu'),\n",
    "    BatchNormalization(), \n",
    "    Dropout(0.2),\n",
    "    Dense(8, activation='relu'),\n",
    "    BatchNormalization(),\n",
    "    Dropout(0.2),\n",
    "    Dense(1, activation='sigmoid')\n",
    "])\n",
    "\n",
    "# Compile the model\n",
    "model.compile(optimizer='adam', loss='binary_crossentropy', metrics=['accuracy'])\n",
    "\n",
    "# Add early stopping\n",
    "early_stopping = EarlyStopping(monitor='val_loss', patience=5, restore_best_weights=True)\n",
    "\n",
    "# Train the model\n",
    "history = model.fit(\n",
    "    X_train_resampled, \n",
    "    y_train_encoded, \n",
    "    epochs=50, \n",
    "    batch_size=32, \n",
    "    validation_split=0.2, \n",
    "    class_weight=class_weights, \n",
    "    callbacks=[early_stopping], \n",
    "    verbose=1\n",
    ")"
   ],
   "id": "2efbb490dc54183f",
   "outputs": [
    {
     "name": "stdout",
     "output_type": "stream",
     "text": [
      "Epoch 1/50\n"
     ]
    },
    {
     "name": "stderr",
     "output_type": "stream",
     "text": [
      "C:\\Users\\patbr\\PycharmProjects\\sandbox\\.venv\\lib\\site-packages\\keras\\src\\layers\\core\\dense.py:87: UserWarning: Do not pass an `input_shape`/`input_dim` argument to a layer. When using Sequential models, prefer using an `Input(shape)` object as the first layer in the model instead.\n",
      "  super().__init__(activity_regularizer=activity_regularizer, **kwargs)\n"
     ]
    },
    {
     "name": "stdout",
     "output_type": "stream",
     "text": [
      "\u001B[1m3605/3605\u001B[0m \u001B[32m━━━━━━━━━━━━━━━━━━━━\u001B[0m\u001B[37m\u001B[0m \u001B[1m10s\u001B[0m 2ms/step - accuracy: 0.5129 - loss: 0.7232 - val_accuracy: 0.7269 - val_loss: 0.5768\n",
      "Epoch 2/50\n",
      "\u001B[1m3605/3605\u001B[0m \u001B[32m━━━━━━━━━━━━━━━━━━━━\u001B[0m\u001B[37m\u001B[0m \u001B[1m10s\u001B[0m 3ms/step - accuracy: 0.5574 - loss: 0.6843 - val_accuracy: 0.7177 - val_loss: 0.5662\n",
      "Epoch 3/50\n",
      "\u001B[1m3605/3605\u001B[0m \u001B[32m━━━━━━━━━━━━━━━━━━━━\u001B[0m\u001B[37m\u001B[0m \u001B[1m10s\u001B[0m 3ms/step - accuracy: 0.5689 - loss: 0.6785 - val_accuracy: 0.7597 - val_loss: 0.5539\n",
      "Epoch 4/50\n",
      "\u001B[1m3605/3605\u001B[0m \u001B[32m━━━━━━━━━━━━━━━━━━━━\u001B[0m\u001B[37m\u001B[0m \u001B[1m10s\u001B[0m 3ms/step - accuracy: 0.5675 - loss: 0.6750 - val_accuracy: 0.7252 - val_loss: 0.5540\n",
      "Epoch 5/50\n",
      "\u001B[1m3605/3605\u001B[0m \u001B[32m━━━━━━━━━━━━━━━━━━━━\u001B[0m\u001B[37m\u001B[0m \u001B[1m11s\u001B[0m 3ms/step - accuracy: 0.5748 - loss: 0.6728 - val_accuracy: 0.7178 - val_loss: 0.5618\n",
      "Epoch 6/50\n",
      "\u001B[1m3605/3605\u001B[0m \u001B[32m━━━━━━━━━━━━━━━━━━━━\u001B[0m\u001B[37m\u001B[0m \u001B[1m12s\u001B[0m 3ms/step - accuracy: 0.5784 - loss: 0.6707 - val_accuracy: 0.7621 - val_loss: 0.5463\n",
      "Epoch 7/50\n",
      "\u001B[1m3605/3605\u001B[0m \u001B[32m━━━━━━━━━━━━━━━━━━━━\u001B[0m\u001B[37m\u001B[0m \u001B[1m12s\u001B[0m 3ms/step - accuracy: 0.5768 - loss: 0.6694 - val_accuracy: 0.7218 - val_loss: 0.5686\n",
      "Epoch 8/50\n",
      "\u001B[1m3605/3605\u001B[0m \u001B[32m━━━━━━━━━━━━━━━━━━━━\u001B[0m\u001B[37m\u001B[0m \u001B[1m10s\u001B[0m 3ms/step - accuracy: 0.5841 - loss: 0.6697 - val_accuracy: 0.7085 - val_loss: 0.5696\n",
      "Epoch 9/50\n",
      "\u001B[1m3605/3605\u001B[0m \u001B[32m━━━━━━━━━━━━━━━━━━━━\u001B[0m\u001B[37m\u001B[0m \u001B[1m11s\u001B[0m 3ms/step - accuracy: 0.5800 - loss: 0.6701 - val_accuracy: 0.7390 - val_loss: 0.5636\n",
      "Epoch 10/50\n",
      "\u001B[1m3605/3605\u001B[0m \u001B[32m━━━━━━━━━━━━━━━━━━━━\u001B[0m\u001B[37m\u001B[0m \u001B[1m17s\u001B[0m 5ms/step - accuracy: 0.5834 - loss: 0.6674 - val_accuracy: 0.7637 - val_loss: 0.5454\n",
      "Epoch 11/50\n",
      "\u001B[1m3605/3605\u001B[0m \u001B[32m━━━━━━━━━━━━━━━━━━━━\u001B[0m\u001B[37m\u001B[0m \u001B[1m18s\u001B[0m 5ms/step - accuracy: 0.5770 - loss: 0.6696 - val_accuracy: 0.7331 - val_loss: 0.5646\n",
      "Epoch 12/50\n",
      "\u001B[1m3605/3605\u001B[0m \u001B[32m━━━━━━━━━━━━━━━━━━━━\u001B[0m\u001B[37m\u001B[0m \u001B[1m17s\u001B[0m 5ms/step - accuracy: 0.5808 - loss: 0.6694 - val_accuracy: 0.7149 - val_loss: 0.5644\n",
      "Epoch 13/50\n",
      "\u001B[1m3605/3605\u001B[0m \u001B[32m━━━━━━━━━━━━━━━━━━━━\u001B[0m\u001B[37m\u001B[0m \u001B[1m18s\u001B[0m 5ms/step - accuracy: 0.5838 - loss: 0.6681 - val_accuracy: 0.7215 - val_loss: 0.5625\n",
      "Epoch 14/50\n",
      "\u001B[1m3605/3605\u001B[0m \u001B[32m━━━━━━━━━━━━━━━━━━━━\u001B[0m\u001B[37m\u001B[0m \u001B[1m21s\u001B[0m 6ms/step - accuracy: 0.5806 - loss: 0.6701 - val_accuracy: 0.7212 - val_loss: 0.5571\n",
      "Epoch 15/50\n",
      "\u001B[1m3605/3605\u001B[0m \u001B[32m━━━━━━━━━━━━━━━━━━━━\u001B[0m\u001B[37m\u001B[0m \u001B[1m19s\u001B[0m 5ms/step - accuracy: 0.5814 - loss: 0.6701 - val_accuracy: 0.7500 - val_loss: 0.5581\n"
     ]
    }
   ],
   "execution_count": 49
  },
  {
   "cell_type": "code",
   "id": "6bbf8674",
   "metadata": {
    "ExecuteTime": {
     "end_time": "2025-01-25T07:23:00.212762Z",
     "start_time": "2025-01-25T07:22:59.433300Z"
    }
   },
   "source": [
    "# 7. Plot training history\n",
    "plt.figure(figsize=(12, 4))\n",
    "plt.subplot(1, 2, 1)\n",
    "plt.plot(history.history['accuracy'], label='Training Accuracy')\n",
    "plt.plot(history.history['val_accuracy'], label='Validation Accuracy')\n",
    "plt.title('Accuracy over Epochs')\n",
    "plt.xlabel('Epochs')\n",
    "plt.ylabel('Accuracy')\n",
    "plt.legend()\n",
    "\n",
    "plt.subplot(1, 2, 2)\n",
    "plt.plot(history.history['loss'], label='Training Loss')\n",
    "plt.plot(history.history['val_loss'], label='Validation Loss')\n",
    "plt.title('Loss over Epochs')\n",
    "plt.xlabel('Epochs')\n",
    "plt.ylabel('Loss')\n",
    "plt.legend()\n",
    "plt.show()"
   ],
   "outputs": [
    {
     "data": {
      "text/plain": [
       "<Figure size 1200x400 with 2 Axes>"
      ],
      "image/png": "[encoded data removed]"
     },
     "metadata": {},
     "output_type": "display_data"
    }
   ],
   "execution_count": 50
  },
  {
   "metadata": {
    "ExecuteTime": {
     "end_time": "2025-01-25T07:23:07.317382Z",
     "start_time": "2025-01-25T07:23:04.238318Z"
    }
   },
   "cell_type": "code",
   "source": [
    "# 8. Performance and metrics\n",
    "\n",
    "y_pred = (model.predict(X_test) > 0.5).astype(\"int32\")\n",
    "\n",
    "conf_matrix = confusion_matrix(y_test, y_pred)\n",
    "accuracy = accuracy_score(y_test, y_pred)\n",
    "recall = recall_score(y_test, y_pred, average='weighted')\n",
    "precision = precision_score(y_test, y_pred, average='weighted')\n",
    "f1 = f1_score(y_test, y_pred, average='weighted')\n",
    "class_report = classification_report(y_test, y_pred)\n",
    "\n",
    "print('Confusion Matrix')\n",
    "print(conf_matrix)\n",
    "print(f'accuracy: {accuracy}')\n",
    "print(f'recall: {recall}')\n",
    "print(f'precision: {precision}')\n",
    "print(f'f1: {f1}')\n",
    "print(class_report)"
   ],
   "id": "70415df5fc15058f",
   "outputs": [
    {
     "name": "stdout",
     "output_type": "stream",
     "text": [
      "\u001B[1m1440/1440\u001B[0m \u001B[32m━━━━━━━━━━━━━━━━━━━━\u001B[0m\u001B[37m\u001B[0m \u001B[1m2s\u001B[0m 1ms/step\n",
      "Confusion Matrix\n",
      "[[14488 16409]\n",
      " [ 3638 11519]]\n",
      "accuracy: 0.5647066487167238\n",
      "recall: 0.5647066487167238\n",
      "precision: 0.6719793828378086\n",
      "f1: 0.5725209680408145\n",
      "              precision    recall  f1-score   support\n",
      "\n",
      "           0       0.80      0.47      0.59     30897\n",
      "           1       0.41      0.76      0.53     15157\n",
      "\n",
      "    accuracy                           0.56     46054\n",
      "   macro avg       0.61      0.61      0.56     46054\n",
      "weighted avg       0.67      0.56      0.57     46054\n",
      "\n"
     ]
    }
   ],
   "execution_count": 51
  }
 ],
 "metadata": {
  "kernelspec": {
   "name": "python3",
   "language": "python",
   "display_name": "Python 3 (ipykernel)"
  }
 },
 "nbformat": 4,
 "nbformat_minor": 5
}
