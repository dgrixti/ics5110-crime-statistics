{
 "cells": [
  {
   "cell_type": "code",
   "execution_count": 1,
   "id": "6c551309-69bc-46d9-93c1-a1abba786af8",
   "metadata": {},
   "outputs": [],
   "source": [
    "# Install all the required libraries\n",
    "import numpy as np\n",
    "import pandas as pd\n",
    "from sklearn.ensemble import RandomForestClassifier\n",
    "from sklearn.model_selection import train_test_split\n",
    "from sklearn.metrics import confusion_matrix, accuracy_score, recall_score, precision_score, f1_score, classification_report\n",
    "from sklearn.preprocessing import StandardScaler, LabelEncoder\n",
    "from imblearn.over_sampling import SMOTE\n",
    "import joblib"
   ]
  },
  {
   "cell_type": "code",
   "execution_count": 3,
   "id": "66eb03f8-9cec-44b2-b7a9-9e1e8e047691",
   "metadata": {},
   "outputs": [],
   "source": [
    "# Merge the split CSV files\n",
    "encoded_parts = ['output_chunks/clean_df_3_single_weapon_part1.csv', 'output_chunks/clean_df_3_single_weapon_part2.csv']\n",
    "dataframes = [pd.read_csv(part) for part in encoded_parts]\n",
    "df_encoded =  pd.concat(dataframes, ignore_index=True)"
   ]
  },
  {
   "cell_type": "code",
   "execution_count": 4,
   "id": "5bbd0285-8edb-4db9-b316-7fe41b386b85",
   "metadata": {},
   "outputs": [
    {
     "name": "stdout",
     "output_type": "stream",
     "text": [
      "First 5 rows:\n"
     ]
    },
    {
     "data": {
      "text/html": [
       "<div>\n",
       "<style scoped>\n",
       "    .dataframe tbody tr th:only-of-type {\n",
       "        vertical-align: middle;\n",
       "    }\n",
       "\n",
       "    .dataframe tbody tr th {\n",
       "        vertical-align: top;\n",
       "    }\n",
       "\n",
       "    .dataframe thead th {\n",
       "        text-align: right;\n",
       "    }\n",
       "</style>\n",
       "<table border=\"1\" class=\"dataframe\">\n",
       "  <thead>\n",
       "    <tr style=\"text-align: right;\">\n",
       "      <th></th>\n",
       "      <th>Agency Type</th>\n",
       "      <th>Victim Sex</th>\n",
       "      <th>Victim Age</th>\n",
       "      <th>Victim Ethnicity</th>\n",
       "      <th>Perpetrator Sex</th>\n",
       "      <th>Perpetrator Ethnicity</th>\n",
       "      <th>Weapon Category</th>\n",
       "      <th>Relationship Category</th>\n",
       "      <th>Region</th>\n",
       "      <th>Season</th>\n",
       "    </tr>\n",
       "  </thead>\n",
       "  <tbody>\n",
       "    <tr>\n",
       "      <th>0</th>\n",
       "      <td>Other Police</td>\n",
       "      <td>Female</td>\n",
       "      <td>26</td>\n",
       "      <td>Not Hispanic</td>\n",
       "      <td>Male</td>\n",
       "      <td>Not Hispanic</td>\n",
       "      <td>Non-Firearm</td>\n",
       "      <td>Lover</td>\n",
       "      <td>West</td>\n",
       "      <td>Autumn</td>\n",
       "    </tr>\n",
       "    <tr>\n",
       "      <th>1</th>\n",
       "      <td>Sheriff</td>\n",
       "      <td>Male</td>\n",
       "      <td>23</td>\n",
       "      <td>Not Hispanic</td>\n",
       "      <td>Male</td>\n",
       "      <td>Not Hispanic</td>\n",
       "      <td>Firearm</td>\n",
       "      <td>Acquaintance</td>\n",
       "      <td>South</td>\n",
       "      <td>Summer</td>\n",
       "    </tr>\n",
       "    <tr>\n",
       "      <th>2</th>\n",
       "      <td>Sheriff</td>\n",
       "      <td>Male</td>\n",
       "      <td>42</td>\n",
       "      <td>Not Hispanic</td>\n",
       "      <td>Female</td>\n",
       "      <td>Not Hispanic</td>\n",
       "      <td>Firearm</td>\n",
       "      <td>Lover</td>\n",
       "      <td>South</td>\n",
       "      <td>Summer</td>\n",
       "    </tr>\n",
       "    <tr>\n",
       "      <th>3</th>\n",
       "      <td>Sheriff</td>\n",
       "      <td>Male</td>\n",
       "      <td>33</td>\n",
       "      <td>Not Hispanic</td>\n",
       "      <td>Male</td>\n",
       "      <td>Not Hispanic</td>\n",
       "      <td>Firearm</td>\n",
       "      <td>Acquaintance</td>\n",
       "      <td>South</td>\n",
       "      <td>Summer</td>\n",
       "    </tr>\n",
       "    <tr>\n",
       "      <th>4</th>\n",
       "      <td>Sheriff</td>\n",
       "      <td>Male</td>\n",
       "      <td>46</td>\n",
       "      <td>Not Hispanic</td>\n",
       "      <td>Male</td>\n",
       "      <td>Not Hispanic</td>\n",
       "      <td>Firearm</td>\n",
       "      <td>Family</td>\n",
       "      <td>South</td>\n",
       "      <td>Autumn</td>\n",
       "    </tr>\n",
       "  </tbody>\n",
       "</table>\n",
       "</div>"
      ],
      "text/plain": [
       "    Agency Type Victim Sex  Victim Age Victim Ethnicity Perpetrator Sex  \\\n",
       "0  Other Police     Female          26     Not Hispanic            Male   \n",
       "1       Sheriff       Male          23     Not Hispanic            Male   \n",
       "2       Sheriff       Male          42     Not Hispanic          Female   \n",
       "3       Sheriff       Male          33     Not Hispanic            Male   \n",
       "4       Sheriff       Male          46     Not Hispanic            Male   \n",
       "\n",
       "  Perpetrator Ethnicity Weapon Category Relationship Category Region  Season  \n",
       "0          Not Hispanic     Non-Firearm                 Lover   West  Autumn  \n",
       "1          Not Hispanic         Firearm          Acquaintance  South  Summer  \n",
       "2          Not Hispanic         Firearm                 Lover  South  Summer  \n",
       "3          Not Hispanic         Firearm          Acquaintance  South  Summer  \n",
       "4          Not Hispanic         Firearm                Family  South  Autumn  "
      ]
     },
     "execution_count": 4,
     "metadata": {},
     "output_type": "execute_result"
    }
   ],
   "source": [
    "# Check data is correct\n",
    "print(\"First 5 rows:\")\n",
    "df_encoded.head()"
   ]
  },
  {
   "cell_type": "code",
   "execution_count": 6,
   "id": "7fcf84dc-8e67-4043-aabf-25685b569092",
   "metadata": {},
   "outputs": [],
   "source": [
    "## Feature Engineering\n",
    "#1. Encoding categorical variables using Label Encoding\n",
    "#2. Creating a binary target variable for weapon type\n",
    "#3. Scaling numerical features\n"
   ]
  },
  {
   "cell_type": "code",
   "execution_count": 7,
   "id": "43bfbaa3-bd66-480f-a97f-463b796d822e",
   "metadata": {},
   "outputs": [
    {
     "name": "stdout",
     "output_type": "stream",
     "text": [
      "Weapon Category Mapping:\n",
      "'Non-Firearm' -> 0\n",
      "'Firearm' -> 1\n"
     ]
    }
   ],
   "source": [
    "# Initialize encoders for categorical columns\n",
    "categorical_columns = [\n",
    "    'Agency Type', 'Victim Sex', 'Victim Age', 'Victim Ethnicity',\n",
    "    'Perpetrator Sex', 'Perpetrator Ethnicity',\n",
    "    'Relationship Category', 'Region', 'Season'\n",
    "]\n",
    "\n",
    "# Initialize label encoders\n",
    "label_encoders = {}\n",
    "for col in categorical_columns:\n",
    "    le = LabelEncoder()\n",
    "    df_encoded[col] = le.fit_transform(df_encoded[col])\n",
    "    label_encoders[col] = le\n",
    "\n",
    "# Force binary mapping for weapon category\n",
    "weapon_mapping = {'Non-Firearm': 0, 'Firearm': 1}\n",
    "df_encoded['Weapon Category'] = df_encoded['Weapon Category'].map(weapon_mapping)\n",
    "\n",
    "print(\"Weapon Category Mapping:\")\n",
    "for category, value in weapon_mapping.items():\n",
    "    print(f\"'{category}' -> {value}\")"
   ]
  },
  {
   "cell_type": "code",
   "execution_count": 9,
   "id": "c440ab75-71d0-440d-b7a1-07392d1e8439",
   "metadata": {},
   "outputs": [],
   "source": [
    "# Split data for training\n",
    "\n",
    "# Prepare features and target\n",
    "X = df_encoded.drop(columns=['Weapon Category'])\n",
    "y = df_encoded['Weapon Category']\n",
    "\n",
    "# Scale features\n",
    "scaler = StandardScaler()\n",
    "X_scaled = scaler.fit_transform(X)\n",
    "\n",
    "# Train-test split\n",
    "X_train, X_test, y_train, y_test = train_test_split(\n",
    "    X_scaled, y, test_size=0.3, random_state=42, stratify=y\n",
    ")\n"
   ]
  },
  {
   "cell_type": "code",
   "execution_count": 10,
   "id": "65cdd864-689c-4bdf-89ac-99c815eff9ed",
   "metadata": {},
   "outputs": [],
   "source": [
    "# Apply SMOTE for handling imbalanced data\n",
    "smote = SMOTE(random_state=42)\n",
    "X_train_resampled, y_train_resampled = smote.fit_resample(X_train, y_train)\n"
   ]
  },
  {
   "cell_type": "code",
   "execution_count": 12,
   "id": "db158b4f-9faf-4a6e-bbc8-b6a42e29b542",
   "metadata": {},
   "outputs": [
    {
     "name": "stdout",
     "output_type": "stream",
     "text": [
      "Training Random Forest model...\n",
      "done!\n"
     ]
    }
   ],
   "source": [
    "# Initialize and train Random Forest model\n",
    "rf_model = RandomForestClassifier(\n",
    "    n_estimators=100,  # Number of trees in the forest\n",
    "    max_depth=20,      # Maximum depth of each tree\n",
    "    min_samples_split=6,  # Minimum samples required to split a node\n",
    "    min_samples_leaf=3,   # Minimum samples required at each leaf node\n",
    "    max_features=5,       # Maximum number of features to consider for splits\n",
    "    random_state=42,\n",
    "    class_weight='balanced'  # Handle class imbalance\n",
    ")\n",
    "\n",
    "print(\"Training Random Forest model...\")\n",
    "rf_model.fit(X_train_resampled, y_train_resampled)\n",
    "print(\"done!\")"
   ]
  },
  {
   "cell_type": "code",
   "execution_count": 13,
   "id": "4337f9f1-c488-45f3-abf4-b59cd0038013",
   "metadata": {},
   "outputs": [
    {
     "name": "stdout",
     "output_type": "stream",
     "text": [
      "\n",
      "Model Performance Metrics:\n",
      "-------------------------\n",
      "Accuracy: 0.6441\n",
      "Recall: 0.6441\n",
      "Precision: 0.6512\n",
      "F1 Score: 0.6473\n",
      "\n",
      "Confusion Matrix:\n",
      "----------------\n",
      "                    Predicted: Non-Firearm    Predicted: Firearm\n",
      "Actual: Non-Firearm 7543                      7614  \n",
      "Actual: Firearm     8775                      22122 \n",
      "\n",
      "Detailed Classification Report:\n",
      "-----------------------------\n",
      "              precision    recall  f1-score   support\n",
      "\n",
      "           0       0.46      0.50      0.48     15157\n",
      "           1       0.74      0.72      0.73     30897\n",
      "\n",
      "    accuracy                           0.64     46054\n",
      "   macro avg       0.60      0.61      0.60     46054\n",
      "weighted avg       0.65      0.64      0.65     46054\n",
      "\n"
     ]
    }
   ],
   "source": [
    "# Make predictions\n",
    "y_pred = rf_model.predict(X_test)\n",
    "y_pred_proba = rf_model.predict_proba(X_test)\n",
    "\n",
    "# Calculate metrics\n",
    "conf_matrix = confusion_matrix(y_test, y_pred)\n",
    "accuracy = accuracy_score(y_test, y_pred)\n",
    "recall = recall_score(y_test, y_pred, average='weighted')\n",
    "precision = precision_score(y_test, y_pred, average='weighted')\n",
    "f1 = f1_score(y_test, y_pred, average='weighted')\n",
    "class_report = classification_report(y_test, y_pred)\n",
    "\n",
    "# Print results\n",
    "print(\"\\nModel Performance Metrics:\")\n",
    "print(\"-------------------------\")\n",
    "print(f\"Accuracy: {accuracy:.4f}\")\n",
    "print(f\"Recall: {recall:.4f}\")\n",
    "print(f\"Precision: {precision:.4f}\")\n",
    "print(f\"F1 Score: {f1:.4f}\")\n",
    "\n",
    "print(\"\\nConfusion Matrix:\")\n",
    "print(\"----------------\")\n",
    "print(\"                    Predicted: Non-Firearm    Predicted: Firearm\")\n",
    "print(f\"Actual: Non-Firearm {conf_matrix[0][0]:<6}                    {conf_matrix[0][1]:<6}\")\n",
    "print(f\"Actual: Firearm     {conf_matrix[1][0]:<6}                    {conf_matrix[1][1]:<6}\")\n",
    "\n",
    "print(\"\\nDetailed Classification Report:\")\n",
    "print(\"-----------------------------\")\n",
    "print(class_report)"
   ]
  },
  {
   "cell_type": "code",
   "execution_count": 16,
   "id": "9ba3ded8-da24-4d13-bccb-7b1dea98115f",
   "metadata": {},
   "outputs": [
    {
     "name": "stdout",
     "output_type": "stream",
     "text": [
      "\n",
      "Prediction for Single Case:\n",
      "---------------------------\n",
      "Predicted Category: Firearm\n",
      "Probability of Non-Firearm: 0.4832\n",
      "Probability of Firearm: 0.5168\n"
     ]
    }
   ],
   "source": [
    "# Run a sample prediction\n",
    "def make_prediction(\n",
    "    agency, victim_sex, victim_age, victim_ethnicity,\n",
    "    perpetrator_sex, perpetrator_ethnicity, relationship,\n",
    "    region, season\n",
    "):\n",
    "    # Encode input features\n",
    "    input_features = [\n",
    "        label_encoders['Agency Type'].transform([agency])[0],\n",
    "        label_encoders['Victim Sex'].transform([victim_sex])[0],\n",
    "        label_encoders['Victim Age'].transform([str(victim_age)])[0],\n",
    "        label_encoders['Victim Ethnicity'].transform([victim_ethnicity])[0],\n",
    "        label_encoders['Perpetrator Sex'].transform([perpetrator_sex])[0],\n",
    "        label_encoders['Perpetrator Ethnicity'].transform([perpetrator_ethnicity])[0],\n",
    "        label_encoders['Relationship Category'].transform([relationship])[0],\n",
    "        label_encoders['Region'].transform([region])[0],\n",
    "        label_encoders['Season'].transform([season])[0]\n",
    "    ]\n",
    "    \n",
    "    # Scale features\n",
    "    ##input_features_scaled = scaler.transform([input_features])\n",
    "    input_df = pd.DataFrame([input_features], columns=X.columns)\n",
    "    input_features_scaled = scaler.transform(input_df)\n",
    "\n",
    "    # Make prediction\n",
    "    pred = rf_model.predict(input_features_scaled)[0]\n",
    "    pred_proba = rf_model.predict_proba(input_features_scaled)[0]\n",
    "    \n",
    "    # Convert prediction to label\n",
    "    prediction_label = \"Firearm\" if pred == 1 else \"Non-Firearm\"\n",
    "    \n",
    "    print(\"\\nPrediction for Single Case:\")\n",
    "    print(\"---------------------------\")\n",
    "    print(f\"Predicted Category: {prediction_label}\")\n",
    "    print(f\"Probability of Non-Firearm: {pred_proba[0]:.4f}\")\n",
    "    print(f\"Probability of Firearm: {pred_proba[1]:.4f}\")\n",
    "\n",
    "# Example usage of prediction function\n",
    "make_prediction(\n",
    "    agency=\"Municipal Police\",\n",
    "    victim_sex=\"Male\",\n",
    "    victim_age=\"30\",\n",
    "    victim_ethnicity=\"Hispanic\",\n",
    "    perpetrator_sex=\"Male\",\n",
    "    perpetrator_ethnicity=\"Hispanic\",\n",
    "    relationship=\"Acquaintance\",\n",
    "    region=\"Midwest\",\n",
    "    season=\"Summer\"\n",
    ")"
   ]
  },
  {
   "cell_type": "code",
   "execution_count": null,
   "id": "0b08a5b6-b0fb-4c8a-9c9e-a6a4f033fba7",
   "metadata": {},
   "outputs": [],
   "source": []
  }
 ],
 "metadata": {
  "kernelspec": {
   "display_name": "Python 3 (ipykernel)",
   "language": "python",
   "name": "python3"
  },
  "language_info": {
   "codemirror_mode": {
    "name": "ipython",
    "version": 3
   },
   "file_extension": ".py",
   "mimetype": "text/x-python",
   "name": "python",
   "nbconvert_exporter": "python",
   "pygments_lexer": "ipython3",
   "version": "3.8.10"
  }
 },
 "nbformat": 4,
 "nbformat_minor": 5
}
